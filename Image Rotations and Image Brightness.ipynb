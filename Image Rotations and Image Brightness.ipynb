{
 "cells": [
  {
   "cell_type": "code",
   "execution_count": 30,
   "id": "df2628c9",
   "metadata": {},
   "outputs": [
    {
     "name": "stdout",
     "output_type": "stream",
     "text": [
      "Rotation and saving completed.\n"
     ]
    }
   ],
   "source": [
    "import cv2\n",
    "import os\n",
    "def rotate_image(image_path, output_folder):\n",
    "    if not os.path.exists(output_folder):\n",
    "        os.makedirs(output_folder)\n",
    "    original_image = cv2.imread(image_path)\n",
    "    height, width, _ = original_image.shape\n",
    "    rotation_step = 1\n",
    "\n",
    "    for angle in range(0, 360, rotation_step):\n",
    "        rotation_matrix = cv2.getRotationMatrix2D((width / 2, height / 2), angle, 1.0)\n",
    "        rotated_image = cv2.warpAffine(original_image, rotation_matrix, (width, height))\n",
    "        output_path = os.path.join(output_folder, f\"rotated_{angle:03d}.jpg\")\n",
    "        cv2.imwrite(output_path, rotated_image)\n",
    "\n",
    "    print(\"Rotation and saving completed.\")\n",
    "\n",
    "if __name__ == \"__main__\":\n",
    "    input_image_path = \"Image_01.jpg\"\n",
    "    output_folder_path = \"Downloads/Rotated Images\"\n",
    "    rotate_image(input_image_path, output_folder_path)\n"
   ]
  },
  {
   "cell_type": "code",
   "execution_count": 36,
   "id": "9bdadb82",
   "metadata": {},
   "outputs": [
    {
     "name": "stdout",
     "output_type": "stream",
     "text": [
      "Image generation completed.\n"
     ]
    }
   ],
   "source": [
    "def adjust_brightness(image, factor):\n",
    "    hsv = cv2.cvtColor(image, cv2.COLOR_BGR2HSV)\n",
    "    hsv[:, :, 2] = hsv[:, :, 2] * factor\n",
    "    hsv[:, :, 2] = np.clip(hsv[:, :, 2], 0, 255)\n",
    "    brightened_image = cv2.cvtColor(hsv, cv2.COLOR_HSV2BGR)\n",
    "\n",
    "    return brightened_image\n",
    "\n",
    "def generate_brightness_images(original_image_path, output_folder):\n",
    "    if not os.path.exists(output_folder):\n",
    "        os.makedirs(output_folder)\n",
    "    original_image = cv2.imread(original_image_path)\n",
    "    for i in range(1, 101):\n",
    "        brightness_factor = i / 50.0  \n",
    "        brightened_image = adjust_brightness(original_image, brightness_factor)\n",
    "        output_path = os.path.join(output_folder, f\"brightened_{i:03d}.jpg\")\n",
    "        cv2.imwrite(output_path, brightened_image)\n",
    "\n",
    "    print(\"Image generation completed.\")\n",
    "\n",
    "if __name__ == \"__main__\":\n",
    "    original_image_path = \"Image_01.jpg\"\n",
    "    output_folder_path = \"Downloads/Different Brightness Images\"\n",
    "    generate_brightness_images(original_image_path,output_folder_path)\n"
   ]
  }
 ],
 "metadata": {
  "kernelspec": {
   "display_name": "Python 3 (ipykernel)",
   "language": "python",
   "name": "python3"
  },
  "language_info": {
   "codemirror_mode": {
    "name": "ipython",
    "version": 3
   },
   "file_extension": ".py",
   "mimetype": "text/x-python",
   "name": "python",
   "nbconvert_exporter": "python",
   "pygments_lexer": "ipython3",
   "version": "3.11.5"
  }
 },
 "nbformat": 4,
 "nbformat_minor": 5
}
