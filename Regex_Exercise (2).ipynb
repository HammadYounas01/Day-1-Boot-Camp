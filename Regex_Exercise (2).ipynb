{
 "cells": [
  {
   "cell_type": "markdown",
   "id": "1940c91d",
   "metadata": {},
   "source": [
    "### Questions 1\n",
    "\n",
    "Write a Python program to check that a string contains only a certain set of characters (in this case a-z, A-Z and 0-9)."
   ]
  },
  {
   "cell_type": "code",
   "execution_count": 14,
   "id": "fb788c99",
   "metadata": {},
   "outputs": [
    {
     "name": "stdout",
     "output_type": "stream",
     "text": [
      "The string \"abc123\" contains only allowed characters.\n",
      "The string \"abc@123\" contains invalid characters.\n"
     ]
    }
   ],
   "source": [
    "import re\n",
    "def contains_only_allowed_chars(input_string):\n",
    "    pattern = re.compile(r'^[a-zA-Z0-9]+$')\n",
    "    return bool(pattern.match(input_string))\n",
    "input_str1 = \"abc123\"\n",
    "input_str2 = \"abc@123\"\n",
    "if contains_only_allowed_chars(input_str1):\n",
    "    print(f'The string \"{input_str1}\" contains only allowed characters.')\n",
    "else:\n",
    "    print(f'The string \"{input_str1}\" contains invalid characters.')\n",
    "\n",
    "if contains_only_allowed_chars(input_str2):\n",
    "    print(f'The string \"{input_str2}\" contains only allowed characters.')\n",
    "else:\n",
    "    print(f'The string \"{input_str2}\" contains invalid characters.')"
   ]
  },
  {
   "cell_type": "markdown",
   "id": "36b773c3",
   "metadata": {},
   "source": [
    "### Question 2\n",
    "\n",
    "Write a Python program that matches a string that has an a followed by zero or more b's."
   ]
  },
  {
   "cell_type": "code",
   "execution_count": 2,
   "id": "a552493a",
   "metadata": {},
   "outputs": [
    {
     "name": "stdout",
     "output_type": "stream",
     "text": [
      "Test String \"ab\": True\n",
      "Test String \"abb\": True\n",
      "Test String \"ac\": True\n"
     ]
    }
   ],
   "source": [
    "def match_pattern(input_string):\n",
    "    pattern = re.compile(r'ab*')\n",
    "    return bool(pattern.match(input_string))\n",
    "test_string1 = \"ab\"\n",
    "test_string2 = \"abb\"\n",
    "test_string3 = \"ac\"\n",
    "print(f'Test String \"{test_string1}\": {match_pattern(test_string1)}')\n",
    "print(f'Test String \"{test_string2}\": {match_pattern(test_string2)}')\n",
    "print(f'Test String \"{test_string3}\": {match_pattern(test_string3)}')\n"
   ]
  },
  {
   "cell_type": "markdown",
   "id": "673d61a9",
   "metadata": {},
   "source": [
    "### Question 3\n",
    "\n",
    "Write a Python program that matches a string that has an a followed by one or more b's."
   ]
  },
  {
   "cell_type": "code",
   "execution_count": 13,
   "id": "7e0fb77a",
   "metadata": {},
   "outputs": [
    {
     "name": "stdout",
     "output_type": "stream",
     "text": [
      "Test String \"ab\": True\n",
      "Test String \"abb\": True\n",
      "Test String \"ac\": False\n"
     ]
    }
   ],
   "source": [
    "def match_pattern(input_string):\n",
    "    pattern = re.compile(r'ab+')\n",
    "    return bool(pattern.match(input_string))\n",
    "test_string1 = \"ab\"\n",
    "test_string2 = \"abb\"\n",
    "test_string3 = \"ac\"\n",
    "print(f'Test String \"{test_string1}\": {match_pattern(test_string1)}')\n",
    "print(f'Test String \"{test_string2}\": {match_pattern(test_string2)}')\n",
    "print(f'Test String \"{test_string3}\": {match_pattern(test_string3)}')"
   ]
  },
  {
   "cell_type": "markdown",
   "id": "8494f5a8",
   "metadata": {},
   "source": [
    "### Question 4\n",
    "Write a Python program that matches a string that has an a followed by zero or one 'b'."
   ]
  },
  {
   "cell_type": "code",
   "execution_count": 4,
   "id": "df4a9688",
   "metadata": {},
   "outputs": [
    {
     "name": "stdout",
     "output_type": "stream",
     "text": [
      "Test String \"ab\": True\n",
      "Test String \"abb\": True\n",
      "Test String \"ac\": True\n"
     ]
    }
   ],
   "source": [
    "def match_pattern(input_string):\n",
    "    pattern = re.compile(r'ab?')\n",
    "    return bool(pattern.match(input_string))\n",
    "test_string1 = \"ab\"\n",
    "test_string2 = \"abb\"\n",
    "test_string3 = \"ac\"\n",
    "print(f'Test String \"{test_string1}\": {match_pattern(test_string1)}')\n",
    "print(f'Test String \"{test_string2}\": {match_pattern(test_string2)}')\n",
    "print(f'Test String \"{test_string3}\": {match_pattern(test_string3)}')\n"
   ]
  },
  {
   "cell_type": "markdown",
   "id": "cb6b8dc8",
   "metadata": {},
   "source": [
    "### Question 5\n",
    "Write a Python program to find sequences of lowercase letters joined by an underscore."
   ]
  },
  {
   "cell_type": "code",
   "execution_count": 12,
   "id": "fcf95464",
   "metadata": {},
   "outputs": [
    {
     "name": "stdout",
     "output_type": "stream",
     "text": [
      "Sequences found: ['abc_def', 'ghi_jkl', 'pqr_stu']\n"
     ]
    }
   ],
   "source": [
    "def find_sequences(input_string):\n",
    "    pattern = re.compile(r'[a-z]+_[a-z]+')\n",
    "    matches = pattern.findall(input_string)\n",
    "    return matches\n",
    "test_string = \"abc_def ghi_jkl_mno pqr_stu\"\n",
    "\n",
    "result = find_sequences(test_string)\n",
    "print(f\"Sequences found: {result}\")\n"
   ]
  },
  {
   "cell_type": "markdown",
   "id": "3f07cde8",
   "metadata": {},
   "source": [
    "### Question 6\n",
    "Write a Python program that matches a word at the beginning of a string."
   ]
  },
  {
   "cell_type": "code",
   "execution_count": 11,
   "id": "f7b852af",
   "metadata": {},
   "outputs": [
    {
     "name": "stdout",
     "output_type": "stream",
     "text": [
      "Test String \"apple pie is delicious\": True\n",
      "Test String \"banana is a fruit\": False\n"
     ]
    }
   ],
   "source": [
    "def match_word_at_beginning(input_string, word):\n",
    "    pattern = re.compile(fr'\\b{re.escape(word)}')\n",
    "    return bool(pattern.search(input_string))\n",
    "\n",
    "test_string1 = \"apple pie is delicious\"\n",
    "test_string2 = \"banana is a fruit\"\n",
    "word_to_match = \"apple\"\n",
    "print(f'Test String \"{test_string1}\": {match_word_at_beginning(test_string1, word_to_match)}')\n",
    "print(f'Test String \"{test_string2}\": {match_word_at_beginning(test_string2, word_to_match)}')\n"
   ]
  },
  {
   "cell_type": "markdown",
   "id": "170c8d78",
   "metadata": {},
   "source": [
    "### Question 7\n",
    "Write a Python program that matches a word containing 'z'."
   ]
  },
  {
   "cell_type": "code",
   "execution_count": 10,
   "id": "c5c796b8",
   "metadata": {},
   "outputs": [
    {
     "name": "stdout",
     "output_type": "stream",
     "text": [
      "Words containing 'z': ['zoo', 'lazy']\n"
     ]
    }
   ],
   "source": [
    "def match_word_with_z(input_string):\n",
    "    pattern = re.compile(r'\\b\\w*z\\w*\\b')\n",
    "    matches = pattern.findall(input_string)\n",
    "    return matches\n",
    "test_string = \"This is a zoo. The lazy dog is napping.\"\n",
    "\n",
    "result = match_word_with_z(test_string)\n",
    "print(f\"Words containing 'z': {result}\")\n"
   ]
  },
  {
   "cell_type": "markdown",
   "id": "c2d89556",
   "metadata": {},
   "source": [
    "### Question 8\n",
    "Write a Python program to match a string that contains only upper and lowercase letters, numbers, and underscores."
   ]
  },
  {
   "cell_type": "code",
   "execution_count": 9,
   "id": "a1958601",
   "metadata": {},
   "outputs": [
    {
     "name": "stdout",
     "output_type": "stream",
     "text": [
      "Test String \"Abc123\": True\n",
      "Test String \"Hello_World\": True\n",
      "Test String \"Special@Chars\": False\n"
     ]
    }
   ],
   "source": [
    "def match_allowed_characters(input_string):\n",
    "    pattern = re.compile(r'^[a-zA-Z0-9_]+$')\n",
    "    return bool(pattern.match(input_string))\n",
    "test_string1 = \"Abc123\"\n",
    "test_string2 = \"Hello_World\"\n",
    "test_string3 = \"Special@Chars\"\n",
    "\n",
    "print(f'Test String \"{test_string1}\": {match_allowed_characters(test_string1)}')\n",
    "print(f'Test String \"{test_string2}\": {match_allowed_characters(test_string2)}')\n",
    "print(f'Test String \"{test_string3}\": {match_allowed_characters(test_string3)}')\n"
   ]
  },
  {
   "cell_type": "markdown",
   "id": "c476a75a",
   "metadata": {},
   "source": [
    "### Question 9\n",
    "Write a Python program to search for literal strings within a string.<br>\n",
    "Sample text : 'The quick brown fox jumps over the lazy dog.'<br>\n",
    "Searched words : 'fox', 'dog', 'horse'<br>"
   ]
  },
  {
   "cell_type": "code",
   "execution_count": null,
   "id": "62fdfa6c",
   "metadata": {},
   "outputs": [],
   "source": []
  },
  {
   "cell_type": "markdown",
   "id": "5da7e932",
   "metadata": {},
   "source": [
    "### Question 10\n",
    "Write a Python program to search for a literal string in a string and also find the location within the original string where the pattern occurs.<br>\n",
    "\n",
    "Sample text : 'The quick brown fox jumps over the lazy dog.'<br>\n",
    "Searched words : 'fox'<br>\n",
    "\n"
   ]
  },
  {
   "cell_type": "code",
   "execution_count": null,
   "id": "a540ad56",
   "metadata": {},
   "outputs": [],
   "source": []
  },
  {
   "cell_type": "markdown",
   "id": "3c788609",
   "metadata": {},
   "source": [
    "### Question 11\n",
    "Write a Python program that checks whether a word starts and ends with a vowel in a given string. Return true if a word matches the condition; otherwise, return false.<br>\n",
    "Sample Data:<br>\n",
    "(\"Red Orange White\") -> True<br>\n",
    "(\"Red White Black\") -> False<br>\n",
    "(\"abcd dkise eosksu\") -> True<br>"
   ]
  },
  {
   "cell_type": "code",
   "execution_count": null,
   "id": "6a5c8575",
   "metadata": {},
   "outputs": [],
   "source": []
  },
  {
   "cell_type": "markdown",
   "id": "9bc8c2bb",
   "metadata": {},
   "source": [
    "### Question 12\n",
    "Write a Python program that takes a string with some words. For two consecutive words in the said string, check whether the first word ends with a vowel and the next word begins with a vowel. If the program meets the condition, return true, otherwise false. Only one space is allowed between the words.<br>\n",
    "Sample Data:<br>\n",
    "(\"These exercises can be used for practice.\") -> True<br>\n",
    "(\"Following exercises should be removed for practice.\") -> False<br>\n",
    "(\"I use these stories in my classroom.\") -> True<br>"
   ]
  },
  {
   "cell_type": "code",
   "execution_count": null,
   "id": "3b5f1d7b",
   "metadata": {},
   "outputs": [],
   "source": []
  }
 ],
 "metadata": {
  "kernelspec": {
   "display_name": "Python 3 (ipykernel)",
   "language": "python",
   "name": "python3"
  },
  "language_info": {
   "codemirror_mode": {
    "name": "ipython",
    "version": 3
   },
   "file_extension": ".py",
   "mimetype": "text/x-python",
   "name": "python",
   "nbconvert_exporter": "python",
   "pygments_lexer": "ipython3",
   "version": "3.11.5"
  }
 },
 "nbformat": 4,
 "nbformat_minor": 5
}
