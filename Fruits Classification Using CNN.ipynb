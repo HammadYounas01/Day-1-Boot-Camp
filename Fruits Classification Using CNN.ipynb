{
 "cells": [
  {
   "cell_type": "code",
   "execution_count": 17,
   "id": "6c521e5a",
   "metadata": {},
   "outputs": [
    {
     "name": "stdout",
     "output_type": "stream",
     "text": [
      "Found 288 images belonging to 9 classes.\n",
      "Found 71 images belonging to 9 classes.\n",
      "Epoch 1/5\n",
      "9/9 [==============================] - 114s 9s/step - loss: 13.1065 - accuracy: 0.1424 - val_loss: 2.2752 - val_accuracy: 0.2394\n",
      "Epoch 2/5\n",
      "9/9 [==============================] - 58s 6s/step - loss: 2.0284 - accuracy: 0.2569 - val_loss: 1.7905 - val_accuracy: 0.2958\n",
      "Epoch 3/5\n",
      "9/9 [==============================] - 70s 8s/step - loss: 1.5070 - accuracy: 0.4201 - val_loss: 1.5244 - val_accuracy: 0.5211\n",
      "Epoch 4/5\n",
      "9/9 [==============================] - 109s 11s/step - loss: 1.0412 - accuracy: 0.6701 - val_loss: 1.3578 - val_accuracy: 0.4789\n",
      "Epoch 5/5\n",
      "9/9 [==============================] - 94s 9s/step - loss: 0.6741 - accuracy: 0.7986 - val_loss: 1.4161 - val_accuracy: 0.5775\n"
     ]
    }
   ],
   "source": [
    "import tensorflow as tf\n",
    "from tensorflow.keras import Sequential\n",
    "from tensorflow.keras.layers import Conv2D, MaxPooling2D, Flatten, Dense\n",
    "from tensorflow.keras.preprocessing.image import ImageDataGenerator\n",
    "\n",
    "# Define the path to your dataset\n",
    "dataset_path = 'images'\n",
    "\n",
    "# Set up image data generators\n",
    "datagen = ImageDataGenerator(rescale=1./255, validation_split=0.2)\n",
    "\n",
    "# Create training dataset\n",
    "train_generator = datagen.flow_from_directory(\n",
    "    dataset_path,\n",
    "    target_size=(256, 256),\n",
    "    batch_size=32,\n",
    "    class_mode='categorical',\n",
    "    subset='training'\n",
    ")\n",
    "\n",
    "# Create validation dataset\n",
    "validation_generator = datagen.flow_from_directory(\n",
    "    dataset_path,\n",
    "    target_size=(256, 256),\n",
    "    batch_size=32,\n",
    "    class_mode='categorical',\n",
    "    subset='validation'\n",
    ")\n",
    "\n",
    "# Create CNN model\n",
    "model = Sequential()\n",
    "\n",
    "model.add(Conv2D(32, kernel_size=(3, 3), activation='relu', input_shape=(256, 256, 3)))\n",
    "model.add(MaxPooling2D(pool_size=(2, 2)))\n",
    "\n",
    "model.add(Conv2D(64, kernel_size=(3, 3), activation='relu'))\n",
    "model.add(MaxPooling2D(pool_size=(2, 2)))\n",
    "\n",
    "model.add(Flatten())\n",
    "\n",
    "model.add(Dense(128, activation='relu'))\n",
    "model.add(Dense(9, activation='softmax'))  # Assuming you have 9 classes\n",
    "\n",
    "model.compile(optimizer='adam', loss='categorical_crossentropy', metrics=['accuracy'])\n",
    "\n",
    "# Train the model\n",
    "history = model.fit(train_generator, epochs=5, validation_data=validation_generator)\n"
   ]
  },
  {
   "cell_type": "code",
   "execution_count": null,
   "id": "1dc869b8",
   "metadata": {},
   "outputs": [],
   "source": []
  }
 ],
 "metadata": {
  "kernelspec": {
   "display_name": "Python 3 (ipykernel)",
   "language": "python",
   "name": "python3"
  },
  "language_info": {
   "codemirror_mode": {
    "name": "ipython",
    "version": 3
   },
   "file_extension": ".py",
   "mimetype": "text/x-python",
   "name": "python",
   "nbconvert_exporter": "python",
   "pygments_lexer": "ipython3",
   "version": "3.11.5"
  }
 },
 "nbformat": 4,
 "nbformat_minor": 5
}
