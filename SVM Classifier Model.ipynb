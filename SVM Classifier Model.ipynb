{
 "cells": [
  {
   "cell_type": "code",
   "execution_count": 4,
   "id": "001bd9f6",
   "metadata": {},
   "outputs": [],
   "source": [
    "import numpy as np\n",
    "import pandas as pd\n",
    "import matplotlib.pyplot as plt"
   ]
  },
  {
   "cell_type": "code",
   "execution_count": 5,
   "id": "560ed4bd",
   "metadata": {},
   "outputs": [],
   "source": [
    "df=pd.read_csv('Trading-features.csv')"
   ]
  },
  {
   "cell_type": "code",
   "execution_count": 6,
   "id": "96067f0c",
   "metadata": {},
   "outputs": [],
   "source": [
    "df.fillna(0,inplace=True)"
   ]
  },
  {
   "cell_type": "code",
   "execution_count": 7,
   "id": "8ec325a1",
   "metadata": {},
   "outputs": [],
   "source": [
    "df1=df.isnull().sum()"
   ]
  },
  {
   "cell_type": "code",
   "execution_count": 8,
   "id": "d5b98662",
   "metadata": {},
   "outputs": [
    {
     "data": {
      "text/plain": [
       "Series([], dtype: int64)"
      ]
     },
     "execution_count": 8,
     "metadata": {},
     "output_type": "execute_result"
    }
   ],
   "source": [
    "df1[df1>0]"
   ]
  },
  {
   "cell_type": "code",
   "execution_count": 9,
   "id": "c542fceb",
   "metadata": {},
   "outputs": [],
   "source": [
    "df['Prediction']=None"
   ]
  },
  {
   "cell_type": "code",
   "execution_count": 10,
   "id": "d7a81af7",
   "metadata": {},
   "outputs": [],
   "source": [
    "df['Prediction']=pd.Series([1 if current>previous else 0 for current, previous in zip(df['last_price'], df['last_price'].shift())])\n"
   ]
  },
  {
   "cell_type": "code",
   "execution_count": 11,
   "id": "4b8936d4",
   "metadata": {},
   "outputs": [
    {
     "data": {
      "text/plain": [
       "Prediction\n",
       "0    6777\n",
       "1    3223\n",
       "Name: count, dtype: int64"
      ]
     },
     "execution_count": 11,
     "metadata": {},
     "output_type": "execute_result"
    }
   ],
   "source": [
    "df['Prediction'].value_counts()"
   ]
  },
  {
   "cell_type": "code",
   "execution_count": 12,
   "id": "41ae96ba",
   "metadata": {},
   "outputs": [],
   "source": [
    "df1=df.drop('id',axis=1)"
   ]
  },
  {
   "cell_type": "code",
   "execution_count": 13,
   "id": "e841bc79",
   "metadata": {},
   "outputs": [],
   "source": [
    "df1=df1.drop('created_at',axis=1)"
   ]
  },
  {
   "cell_type": "code",
   "execution_count": 14,
   "id": "85373e7d",
   "metadata": {},
   "outputs": [],
   "source": [
    "df1=df1.drop('Prediction',axis=1)"
   ]
  },
  {
   "cell_type": "code",
   "execution_count": 15,
   "id": "4a4cd2fb",
   "metadata": {},
   "outputs": [],
   "source": [
    "df3=df['Prediction']"
   ]
  },
  {
   "cell_type": "code",
   "execution_count": 16,
   "id": "9fdab989",
   "metadata": {},
   "outputs": [],
   "source": [
    "X=np.asarray(df1)"
   ]
  },
  {
   "cell_type": "code",
   "execution_count": 17,
   "id": "becf4d56",
   "metadata": {},
   "outputs": [],
   "source": [
    "y=np.asarray(df3)"
   ]
  },
  {
   "cell_type": "code",
   "execution_count": 18,
   "id": "6cbacba8",
   "metadata": {},
   "outputs": [],
   "source": [
    "from sklearn.model_selection import train_test_split"
   ]
  },
  {
   "cell_type": "code",
   "execution_count": 19,
   "id": "8a9843b7",
   "metadata": {},
   "outputs": [],
   "source": [
    "X_train,X_test,y_train,y_test=train_test_split(X,y,test_size=0.2,random_state=4)"
   ]
  },
  {
   "cell_type": "code",
   "execution_count": 20,
   "id": "8292ecf1",
   "metadata": {},
   "outputs": [
    {
     "data": {
      "text/plain": [
       "(8000, 162)"
      ]
     },
     "execution_count": 20,
     "metadata": {},
     "output_type": "execute_result"
    }
   ],
   "source": [
    "X_train.shape"
   ]
  },
  {
   "cell_type": "code",
   "execution_count": 21,
   "id": "325af6ab",
   "metadata": {},
   "outputs": [
    {
     "data": {
      "text/plain": [
       "(8000,)"
      ]
     },
     "execution_count": 21,
     "metadata": {},
     "output_type": "execute_result"
    }
   ],
   "source": [
    "y_train.shape"
   ]
  },
  {
   "cell_type": "code",
   "execution_count": 22,
   "id": "db3541a5",
   "metadata": {},
   "outputs": [
    {
     "data": {
      "text/plain": [
       "(2000, 162)"
      ]
     },
     "execution_count": 22,
     "metadata": {},
     "output_type": "execute_result"
    }
   ],
   "source": [
    "X_test.shape"
   ]
  },
  {
   "cell_type": "code",
   "execution_count": 23,
   "id": "e33beb43",
   "metadata": {},
   "outputs": [
    {
     "data": {
      "text/plain": [
       "(2000,)"
      ]
     },
     "execution_count": 23,
     "metadata": {},
     "output_type": "execute_result"
    }
   ],
   "source": [
    "y_test.shape"
   ]
  },
  {
   "cell_type": "code",
   "execution_count": 24,
   "id": "cfdb4b63",
   "metadata": {},
   "outputs": [],
   "source": [
    "from sklearn import svm"
   ]
  },
  {
   "cell_type": "code",
   "execution_count": 25,
   "id": "12d8dd2a",
   "metadata": {},
   "outputs": [],
   "source": [
    "classifier=svm.SVC()\n",
    "classifier.fit(X_train,y_train)\n",
    "y_predict=classifier.predict(X_test)"
   ]
  },
  {
   "cell_type": "code",
   "execution_count": 26,
   "id": "69fece2d",
   "metadata": {},
   "outputs": [
    {
     "name": "stdout",
     "output_type": "stream",
     "text": [
      "              precision    recall  f1-score   support\n",
      "\n",
      "           0       0.67      0.98      0.80      1346\n",
      "           1       0.40      0.02      0.05       654\n",
      "\n",
      "    accuracy                           0.67      2000\n",
      "   macro avg       0.54      0.50      0.42      2000\n",
      "weighted avg       0.58      0.67      0.55      2000\n",
      "\n"
     ]
    }
   ],
   "source": [
    "from sklearn.metrics import classification_report\n",
    "print(classification_report(y_test,y_predict))"
   ]
  }
 ],
 "metadata": {
  "kernelspec": {
   "display_name": "Python 3 (ipykernel)",
   "language": "python",
   "name": "python3"
  },
  "language_info": {
   "codemirror_mode": {
    "name": "ipython",
    "version": 3
   },
   "file_extension": ".py",
   "mimetype": "text/x-python",
   "name": "python",
   "nbconvert_exporter": "python",
   "pygments_lexer": "ipython3",
   "version": "3.11.5"
  }
 },
 "nbformat": 4,
 "nbformat_minor": 5
}
