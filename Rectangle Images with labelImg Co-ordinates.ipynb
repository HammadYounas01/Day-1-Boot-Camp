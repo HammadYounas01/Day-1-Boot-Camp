{
 "cells": [
  {
   "cell_type": "code",
   "execution_count": 13,
   "id": "e4c58b7f",
   "metadata": {},
   "outputs": [
    {
     "name": "stdout",
     "output_type": "stream",
     "text": [
      "Calculated Coordinates: 382 53 597 227\n"
     ]
    }
   ],
   "source": [
    "import cv2\n",
    "def draw_rectangle(image_path, coordinates):\n",
    "    # Read the image\n",
    "    img = cv2.imread(image_path)\n",
    "    # Extract coordinates\n",
    "    x1, y1, x2, y2 = coordinates\n",
    "    # Convert coordinates from normalized format to pixel values\n",
    "    height, width, _ = img.shape\n",
    "    x1_pixel = int((x1-x2/2) * width)\n",
    "    y1_pixel = int((y1-y2/2) * height)\n",
    "    x4_pixel = int((x1+x2/2) * width)\n",
    "    y4_pixel = int((y1+y2/2) * height)\n",
    "    # Print the calculated coordinates\n",
    "    print(\"Calculated Coordinates:\", x1_pixel, y1_pixel, x4_pixel, y4_pixel)\n",
    "    # Draw a rectangle on the image\n",
    "    color = (0, 255, 0)  # Green color (BGR)\n",
    "    thickness = 2\n",
    "    cv2.rectangle(img, (x1_pixel, y1_pixel), (x4_pixel, y4_pixel), color, thickness)\n",
    "    # Display the image with the rectangle\n",
    "    cv2.imshow('Image with Rectangle', img)\n",
    "    cv2.waitKey(0)\n",
    "    cv2.destroyAllWindows()\n",
    "# Example usage:\n",
    "coordinates=[0.669399,0.255920,0.292350, 0.318761]\n",
    "image_path = \"Desktop/BootCamp/02 Week/cat_dog/1.jpeg\"  # Replace with the actual path to your image\n",
    "draw_rectangle(image_path, coordinates)"
   ]
  }
 ],
 "metadata": {
  "kernelspec": {
   "display_name": "Python 3 (ipykernel)",
   "language": "python",
   "name": "python3"
  },
  "language_info": {
   "codemirror_mode": {
    "name": "ipython",
    "version": 3
   },
   "file_extension": ".py",
   "mimetype": "text/x-python",
   "name": "python",
   "nbconvert_exporter": "python",
   "pygments_lexer": "ipython3",
   "version": "3.11.5"
  }
 },
 "nbformat": 4,
 "nbformat_minor": 5
}
