{
 "cells": [
  {
   "cell_type": "markdown",
   "id": "7ec98f23",
   "metadata": {},
   "source": [
    "### Questions 1\n",
    "\n",
    "Create a matrix of 5x5 with random integers, after that swap its first and last rows."
   ]
  },
  {
   "cell_type": "code",
   "execution_count": 85,
   "id": "fbab7daa",
   "metadata": {},
   "outputs": [
    {
     "name": "stdout",
     "output_type": "stream",
     "text": [
      "Original Matrix:\n",
      "[[36 12 81 41 85]\n",
      " [75  9 73 98 64]\n",
      " [70  6 85 31 86]\n",
      " [74 32 21 72 50]\n",
      " [84 24  6 23 12]]\n",
      "\n",
      "Matrix after swapping first and last rows:\n",
      "[[84 24  6 23 12]\n",
      " [75  9 73 98 64]\n",
      " [70  6 85 31 86]\n",
      " [74 32 21 72 50]\n",
      " [36 12 81 41 85]]\n"
     ]
    }
   ],
   "source": [
    "import numpy as np\n",
    "matrix=np.random.randint(1,100,size=(5,5))\n",
    "print(\"Original Matrix:\")\n",
    "print(matrix)\n",
    "temp_row=matrix[0].copy()\n",
    "matrix[0]=matrix[-1]\n",
    "matrix[-1]=temp_row\n",
    "\n",
    "print(\"\\nMatrix after swapping first and last rows:\")\n",
    "print(matrix)\n"
   ]
  },
  {
   "cell_type": "markdown",
   "id": "804d6649",
   "metadata": {},
   "source": [
    "### Question 2\n",
    "\n",
    "Create a 2D array, remove all rows that contain at least one zero."
   ]
  },
  {
   "cell_type": "code",
   "execution_count": 76,
   "id": "26e7b7e4",
   "metadata": {},
   "outputs": [
    {
     "name": "stdout",
     "output_type": "stream",
     "text": [
      "Original 2D Array:\n",
      "[[3 8 4 0]\n",
      " [9 4 9 5]\n",
      " [3 5 6 6]\n",
      " [4 2 0 1]\n",
      " [2 2 2 5]]\n",
      "\n",
      "Array after removing rows with at least one zero:\n",
      "[[9 4 9 5]\n",
      " [3 5 6 6]\n",
      " [2 2 2 5]]\n"
     ]
    }
   ],
   "source": [
    "import numpy as np\n",
    "array_2d = np.random.randint(0,10,size=(5,4))\n",
    "print(\"Original 2D Array:\")\n",
    "print(array_2d)\n",
    "non_zero_rows = []\n",
    "for row in array_2d:\n",
    "    if not any(element==0 for element in row):\n",
    "        non_zero_rows.append(row)\n",
    "filtered_array_2d=np.array(non_zero_rows)\n",
    "print(\"\\nArray after removing rows with at least one zero:\")\n",
    "print(filtered_array_2d)\n"
   ]
  },
  {
   "cell_type": "markdown",
   "id": "2eaedae6",
   "metadata": {},
   "source": [
    "### Question 3\n",
    "\n",
    "Write a NumPy program to find the real and imaginary parts of an array of complex numbers.<br>\n",
    "Original array [ 1.00000000+0.j 0.70710678+0.70710678j]"
   ]
  },
  {
   "cell_type": "code",
   "execution_count": 77,
   "id": "5e2d4526",
   "metadata": {},
   "outputs": [
    {
     "name": "stdout",
     "output_type": "stream",
     "text": [
      "Original Array:\n",
      "[1.        +0.j         0.70710678+0.70710678j]\n",
      "\n",
      "Real Parts:\n",
      "[1.         0.70710678]\n",
      "\n",
      "Imaginary Parts:\n",
      "[0.         0.70710678]\n"
     ]
    }
   ],
   "source": [
    "import numpy as np\n",
    "original_array=np.array([1.00000000+0.j,0.70710678+0.70710678j])\n",
    "real_parts=np.empty_like(original_array, dtype=float)\n",
    "imaginary_parts=np.empty_like(original_array, dtype=float)\n",
    "for i in range(len(original_array)):\n",
    "    real_parts[i]=original_array[i].real\n",
    "    imaginary_parts[i]=original_array[i].imag\n",
    "print(\"Original Array:\")\n",
    "print(original_array)\n",
    "print(\"\\nReal Parts:\")\n",
    "print(real_parts)\n",
    "print(\"\\nImaginary Parts:\")\n",
    "print(imaginary_parts)\n"
   ]
  },
  {
   "cell_type": "markdown",
   "id": "5d22a191",
   "metadata": {},
   "source": [
    "### Question 4\n",
    "\n",
    "Write a NumPy program to remove the duplicate elements of an array.<br>\n",
    "Original array:\n",
    "[10 10 20 20 30 30]\n"
   ]
  },
  {
   "cell_type": "code",
   "execution_count": 73,
   "id": "39a6deaf",
   "metadata": {},
   "outputs": [
    {
     "name": "stdout",
     "output_type": "stream",
     "text": [
      "Original Array:\n",
      "[10 10 20 20 30 30]\n",
      "\n",
      "Array after removing duplicates:\n",
      "[10 20 30]\n"
     ]
    }
   ],
   "source": [
    "import numpy as np\n",
    "\n",
    "a=np.array([10,10,20,20,30,30])\n",
    "b=np.empty(0,dtype=a.dtype)\n",
    "for i in a:\n",
    "    if i not in b:\n",
    "        b = np.append(b,i)\n",
    "print(\"Original Array:\")\n",
    "print(a)\n",
    "print(\"\\nArray after removing duplicates:\")\n",
    "print(b)\n"
   ]
  },
  {
   "cell_type": "markdown",
   "id": "80f3538a",
   "metadata": {},
   "source": [
    "### Question 5\n",
    "\n",
    "Write a NumPy program to create a 3x3x3 array with random values."
   ]
  },
  {
   "cell_type": "code",
   "execution_count": 30,
   "id": "462e67c5",
   "metadata": {},
   "outputs": [
    {
     "data": {
      "text/plain": [
       "array([[[0.6487286 , 0.97007932, 0.251313  ],\n",
       "        [0.75566317, 0.86993602, 0.27850941],\n",
       "        [0.34369654, 0.52385035, 0.06071459]],\n",
       "\n",
       "       [[0.95454726, 0.65876326, 0.26476452],\n",
       "        [0.5274488 , 0.67928055, 0.1231716 ],\n",
       "        [0.74738271, 0.41917714, 0.55578136]],\n",
       "\n",
       "       [[0.8019725 , 0.12117906, 0.10913874],\n",
       "        [0.63638583, 0.05111479, 0.41548288],\n",
       "        [0.90235253, 0.62044356, 0.24627728]]])"
      ]
     },
     "execution_count": 30,
     "metadata": {},
     "output_type": "execute_result"
    }
   ],
   "source": [
    "a=np.random.rand(3,3,3)\n",
    "a"
   ]
  },
  {
   "cell_type": "markdown",
   "id": "abd66406",
   "metadata": {},
   "source": [
    "### Question 6\n",
    "\n",
    "Write a NumPy program to create a random vector of size 10 and sort it.\n",
    "<b>Note:<\\b> Do not use builtin sorting function"
   ]
  },
  {
   "cell_type": "code",
   "execution_count": 46,
   "id": "9282c068",
   "metadata": {},
   "outputs": [
    {
     "name": "stdout",
     "output_type": "stream",
     "text": [
      "[33 13 33 20 20 12 27 37  3 20]\n",
      "[ 3 12 13 20 20 20 27 33 33 37]\n"
     ]
    }
   ],
   "source": [
    "random_vector=np.random.randint(1,50,size=(10))\n",
    "print(random_vector)\n",
    "for i in range(len(random_vector)):\n",
    "    for j in range(0,len(random_vector)-i-1):\n",
    "        if random_vector[j]>random_vector[j+1]:\n",
    "            random_vector[j],random_vector[j+1]=random_vector[j+1],random_vector[j]\n",
    "print(random_vector)               "
   ]
  },
  {
   "cell_type": "markdown",
   "id": "e0c1e8bb",
   "metadata": {},
   "source": [
    "### Question 7\n",
    "\n",
    "Write a NumPy program to check two random arrays are equal or not."
   ]
  },
  {
   "cell_type": "code",
   "execution_count": 78,
   "id": "e9c571cc",
   "metadata": {},
   "outputs": [
    {
     "name": "stdout",
     "output_type": "stream",
     "text": [
      "Array 1: [3 1 2 1 8]\n",
      "Array 2: [4 5 5 5 2]\n",
      "The arrays are not equal.\n"
     ]
    }
   ],
   "source": [
    "import numpy as np\n",
    "array1 = np.random.randint(1, 10, size=(5,))\n",
    "array2 = np.random.randint(1, 10, size=(5,))\n",
    "are_equal = True\n",
    "if array1.shape == array2.shape:\n",
    "    for i in range(len(array1)):\n",
    "        if array1[i] != array2[i]:\n",
    "            are_equal = False\n",
    "            break\n",
    "else:\n",
    "    are_equal = False\n",
    "print(\"Array 1:\", array1)\n",
    "print(\"Array 2:\", array2)\n",
    "if are_equal:\n",
    "    print(\"The arrays are equal.\")\n",
    "else:\n",
    "    print(\"The arrays are not equal.\")\n"
   ]
  },
  {
   "cell_type": "markdown",
   "id": "234405fe",
   "metadata": {},
   "source": [
    "### Question 8 \n",
    "\n",
    "Write a NumPy program to sort a given array of shape 2 along the first axis, last axis and on flattened array.<br>\n",
    "\n",
    "Original array:<br>\n",
    "[[10 40]<br>\n",
    "[30 20]]"
   ]
  },
  {
   "cell_type": "code",
   "execution_count": 67,
   "id": "1b349b99",
   "metadata": {},
   "outputs": [
    {
     "name": "stdout",
     "output_type": "stream",
     "text": [
      "Original Array:\n",
      "[[10 40]\n",
      " [30 20]]\n",
      "\n",
      "Sorted along the first axis (axis=0):\n",
      "[[10 20]\n",
      " [30 40]]\n",
      "\n",
      "Sorted along the last axis (axis=-1):\n",
      "[[10 40]\n",
      " [20 30]]\n",
      "\n",
      "Sorted flattened array:\n",
      "[10 20 30 40]\n"
     ]
    }
   ],
   "source": [
    "import numpy as np\n",
    "original_array = np.array([[10, 40], [30, 20]])\n",
    "sorted_array_axis0 = np.sort(original_array, axis=0)\n",
    "sorted_array_last_axis = np.sort(original_array, axis=-1)\n",
    "sorted_flattened_array = np.sort(original_array.flatten())\n",
    "print(\"Original Array:\")\n",
    "print(original_array)\n",
    "print(\"\\nSorted along the first axis (axis=0):\")\n",
    "print(sorted_array_axis0)\n",
    "print(\"\\nSorted along the last axis (axis=-1):\")\n",
    "print(sorted_array_last_axis)\n",
    "print(\"\\nSorted flattened array:\")\n",
    "print(sorted_flattened_array)\n"
   ]
  },
  {
   "cell_type": "markdown",
   "id": "2467ff08",
   "metadata": {},
   "source": [
    "### Question 9\n",
    "\n",
    "Write a NumPy program to get the floor, ceiling and truncated values of the elements of a numpy array.<br>\n",
    "\n",
    "Original array:<br>\n",
    "[-1.6 -1.5 -0.3 0.1 1.4 1.8 2. ]"
   ]
  },
  {
   "cell_type": "code",
   "execution_count": 86,
   "id": "8fa2a543",
   "metadata": {},
   "outputs": [
    {
     "name": "stdout",
     "output_type": "stream",
     "text": [
      "Original Array:\n",
      "[-1.6 -1.5 -0.3  0.1  1.4  1.8  2. ]\n",
      "\n",
      "Floor Values:\n",
      "[-2. -2. -1.  0.  1.  1.  2.]\n",
      "\n",
      "Ceiling Values:\n",
      "[-1. -1. -0.  1.  2.  2.  2.]\n",
      "\n",
      "Truncated Values:\n",
      "[-1. -1. -0.  0.  1.  1.  2.]\n"
     ]
    }
   ],
   "source": [
    "import numpy as np\n",
    "original_array=np.array([-1.6,-1.5,-0.3,0.1,1.4,1.8,2.])\n",
    "floor_values=np.floor(original_array)\n",
    "ceiling_values=np.ceil(original_array)\n",
    "truncated_values=np.trunc(original_array)\n",
    "print(\"Original Array:\")\n",
    "print(original_array)\n",
    "print(\"\\nFloor Values:\")\n",
    "print(floor_values)\n",
    "print(\"\\nCeiling Values:\")\n",
    "print(ceiling_values)\n",
    "print(\"\\nTruncated Values:\")\n",
    "print(truncated_values)\n"
   ]
  },
  {
   "cell_type": "markdown",
   "id": "9434026c",
   "metadata": {},
   "source": [
    "### Questions 10\n",
    "\n",
    "Write a NumPy program to display all the dates for the month of March, 2017"
   ]
  },
  {
   "cell_type": "code",
   "execution_count": 83,
   "id": "67332471",
   "metadata": {},
   "outputs": [
    {
     "name": "stdout",
     "output_type": "stream",
     "text": [
      "Dates for the month of March, 2017:\n",
      "2017-03-01T00:00:00.000000\n",
      "2017-03-02T00:00:00.000000\n",
      "2017-03-03T00:00:00.000000\n",
      "2017-03-04T00:00:00.000000\n",
      "2017-03-05T00:00:00.000000\n",
      "2017-03-06T00:00:00.000000\n",
      "2017-03-07T00:00:00.000000\n",
      "2017-03-08T00:00:00.000000\n",
      "2017-03-09T00:00:00.000000\n",
      "2017-03-10T00:00:00.000000\n",
      "2017-03-11T00:00:00.000000\n",
      "2017-03-12T00:00:00.000000\n",
      "2017-03-13T00:00:00.000000\n",
      "2017-03-14T00:00:00.000000\n",
      "2017-03-15T00:00:00.000000\n",
      "2017-03-16T00:00:00.000000\n",
      "2017-03-17T00:00:00.000000\n",
      "2017-03-18T00:00:00.000000\n",
      "2017-03-19T00:00:00.000000\n",
      "2017-03-20T00:00:00.000000\n",
      "2017-03-21T00:00:00.000000\n",
      "2017-03-22T00:00:00.000000\n",
      "2017-03-23T00:00:00.000000\n",
      "2017-03-24T00:00:00.000000\n",
      "2017-03-25T00:00:00.000000\n",
      "2017-03-26T00:00:00.000000\n",
      "2017-03-27T00:00:00.000000\n",
      "2017-03-28T00:00:00.000000\n",
      "2017-03-29T00:00:00.000000\n",
      "2017-03-30T00:00:00.000000\n",
      "2017-03-31T00:00:00.000000\n"
     ]
    }
   ],
   "source": [
    "import numpy as np\n",
    "from datetime import datetime, timedelta\n",
    "start_date=datetime(2017, 3, 1)\n",
    "end_date=datetime(2017, 3, 31)\n",
    "dates_array=np.arange(start_date,end_date+timedelta(days=1),timedelta(days=1))\n",
    "print(\"Dates for the month of March, 2017:\")\n",
    "for date in dates_array:\n",
    "    print(date)\n"
   ]
  },
  {
   "cell_type": "markdown",
   "id": "34eb3ebf",
   "metadata": {},
   "source": [
    "### Question 11\n",
    "\n",
    "Write a NumPy program to create 24 python datetime.datetime objects (single object for every hour), and then put it in a numpy array."
   ]
  },
  {
   "cell_type": "code",
   "execution_count": 60,
   "id": "705b235f",
   "metadata": {},
   "outputs": [
    {
     "name": "stdout",
     "output_type": "stream",
     "text": [
      "Datetime Objects Array:\n",
      "[datetime.datetime(2023, 12, 21, 13, 0)\n",
      " datetime.datetime(2023, 12, 21, 14, 0)\n",
      " datetime.datetime(2023, 12, 21, 15, 0)\n",
      " datetime.datetime(2023, 12, 21, 16, 0)\n",
      " datetime.datetime(2023, 12, 21, 17, 0)\n",
      " datetime.datetime(2023, 12, 21, 18, 0)\n",
      " datetime.datetime(2023, 12, 21, 19, 0)\n",
      " datetime.datetime(2023, 12, 21, 20, 0)\n",
      " datetime.datetime(2023, 12, 21, 21, 0)\n",
      " datetime.datetime(2023, 12, 21, 22, 0)\n",
      " datetime.datetime(2023, 12, 21, 23, 0)\n",
      " datetime.datetime(2023, 12, 22, 0, 0)\n",
      " datetime.datetime(2023, 12, 22, 1, 0)\n",
      " datetime.datetime(2023, 12, 22, 2, 0)\n",
      " datetime.datetime(2023, 12, 22, 3, 0)\n",
      " datetime.datetime(2023, 12, 22, 4, 0)\n",
      " datetime.datetime(2023, 12, 22, 5, 0)\n",
      " datetime.datetime(2023, 12, 22, 6, 0)\n",
      " datetime.datetime(2023, 12, 22, 7, 0)\n",
      " datetime.datetime(2023, 12, 22, 8, 0)\n",
      " datetime.datetime(2023, 12, 22, 9, 0)\n",
      " datetime.datetime(2023, 12, 22, 10, 0)\n",
      " datetime.datetime(2023, 12, 22, 11, 0)\n",
      " datetime.datetime(2023, 12, 22, 12, 0)]\n"
     ]
    }
   ],
   "source": [
    "import numpy as np\n",
    "from datetime import datetime, timedelta\n",
    "start_time=datetime.now().replace(minute=0,second=0,microsecond=0)\n",
    "datetime_objects=np.array([start_time+timedelta(hours=i) for i in range(24)])\n",
    "print(\"Datetime Objects Array:\")\n",
    "print(datetime_objects)\n"
   ]
  },
  {
   "cell_type": "markdown",
   "id": "e34c59d5",
   "metadata": {},
   "source": [
    "### Question 12\n",
    "\n",
    "Write a NumPy program to concatenate element-wise two arrays of string.<br>\n",
    "<b>Example <\\b>\n",
    "Array1:<br>\n",
    "['Python' 'PHP']<br>\n",
    "Array2:<br>\n",
    "[' Java' ' C++']<br>\n",
    "new array:<br>\n",
    "['Python Java' 'PHP C++']<br>"
   ]
  },
  {
   "cell_type": "code",
   "execution_count": 90,
   "id": "cd6b480c",
   "metadata": {},
   "outputs": [
    {
     "data": {
      "text/plain": [
       "['Pythonjava', 'PHPc++']"
      ]
     },
     "execution_count": 90,
     "metadata": {},
     "output_type": "execute_result"
    }
   ],
   "source": [
    "def Con(a1,a2):\n",
    "    if len(a1)!=len(a1):\n",
    "        print(\"Array is not of same size\")\n",
    "    else:\n",
    "        arr_s=[a+b for a, b in zip(a1,a2)]\n",
    "    return arr_s\n",
    "a1=np.array(['Python','PHP'],dtype='str')\n",
    "a2=np.array(['Java','C++'],dtype='str')\n",
    "result=Con(s1,s2)\n",
    "result\n"
   ]
  }
 ],
 "metadata": {
  "kernelspec": {
   "display_name": "Python 3 (ipykernel)",
   "language": "python",
   "name": "python3"
  },
  "language_info": {
   "codemirror_mode": {
    "name": "ipython",
    "version": 3
   },
   "file_extension": ".py",
   "mimetype": "text/x-python",
   "name": "python",
   "nbconvert_exporter": "python",
   "pygments_lexer": "ipython3",
   "version": "3.11.5"
  }
 },
 "nbformat": 4,
 "nbformat_minor": 5
}
