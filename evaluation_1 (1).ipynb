{
  "cells": [
    {
      "cell_type": "markdown",
      "id": "3443b3de",
      "metadata": {
        "id": "3443b3de"
      },
      "source": [
        "### Question 1\n",
        "Given a list of integers nums and an integer target, return <i>indices of the two numbers such that they add up to target<i>. <br>\n",
        "\n",
        "Example 1:<br>\n",
        "\n",
        "Input: nums = [2,7,11,15], target = 9<br>\n",
        "Output: [0,1]"
      ]
    },
    {
      "cell_type": "code",
      "execution_count": null,
      "id": "ff1e5aa2",
      "metadata": {
        "colab": {
          "base_uri": "https://localhost:8080/"
        },
        "id": "ff1e5aa2",
        "outputId": "b37132ca-ccd6-494e-a908-1da437a00656"
      },
      "outputs": [
        {
          "output_type": "stream",
          "name": "stdout",
          "text": [
            "[]\n"
          ]
        }
      ],
      "source": [
        "\n",
        "def function(a, b):\n",
        "    c_dict = []\n",
        "    for i, f in enumerate(a):\n",
        "        c = b - f\n",
        "        if c in c_dict:\n",
        "\n",
        "            return [c_dict[c], i]\n",
        "        c_dict[a] = i\n",
        "    return []\n",
        "\n",
        "a = [3,5,1,5,24,11]\n",
        "b =34\n",
        "result = function(a, b)\n",
        "print(result)"
      ]
    },
    {
      "cell_type": "markdown",
      "id": "e473f396",
      "metadata": {
        "id": "e473f396"
      },
      "source": [
        "### Question 2\n",
        "Given an integer x,<i> return true if x is a <br>\n",
        "palindrome</i><br>\n",
        ", and false otherwise. <br>\n",
        "Example 1:<br>\n",
        "\n",
        "Input: x = 121<br>\n",
        "Output: true<br>\n"
      ]
    },
    {
      "cell_type": "code",
      "execution_count": null,
      "id": "83e210c0",
      "metadata": {
        "colab": {
          "base_uri": "https://localhost:8080/"
        },
        "id": "83e210c0",
        "outputId": "9b88c308-fd65-439c-d470-d7afbc09a0b7"
      },
      "outputs": [
        {
          "output_type": "stream",
          "name": "stdout",
          "text": [
            "True\n"
          ]
        }
      ],
      "source": [
        "def palindrome(x):\n",
        "    strg_x = str(x)\n",
        "    return strg_x == strg_x[::-1]\n",
        "x = 252\n",
        "result = palindrome(x)\n",
        "print(result)"
      ]
    },
    {
      "cell_type": "markdown",
      "id": "a2f1a21b",
      "metadata": {
        "id": "a2f1a21b"
      },
      "source": [
        "### Question 3\n",
        "Given two strings needle and haystack, return the index of the first occurrence of needle in haystack, or -1 if needle is not part of haystack.<br>\n",
        "\n",
        "Example 1:<br>\n",
        "Input: haystack = \"sadbutsad\", needle = \"sad\" <br>\n",
        "Output: 0<br>\n",
        "Explanation: \"sad\" occurs at index 0 and 6.<br>\n",
        "The first occurrence is at index 0, so we return 0.<br>\n",
        "\n",
        "Example 2:<br>\n",
        "Input: haystack = \"apple\", needle = \"appo\"<br>\n",
        "Output: -1<br>\n",
        "Explanation: \"leeto\" did not occur in \"leetcode\", so we return -1.<br>"
      ]
    },
    {
      "cell_type": "code",
      "execution_count": null,
      "id": "d4aeb342",
      "metadata": {
        "colab": {
          "base_uri": "https://localhost:8080/"
        },
        "id": "d4aeb342",
        "outputId": "f55039ee-cc63-4267-d039-d13250d5cf7f"
      },
      "outputs": [
        {
          "output_type": "stream",
          "name": "stdout",
          "text": [
            "-1\n"
          ]
        }
      ],
      "source": [
        "def str_str(haystack, needle):\n",
        "    if not needle:\n",
        "        return 0\n",
        "    for i in range(len(haystack) - len(needle) + 1):\n",
        "        if haystack[i:i+len(needle)] == needle:\n",
        "            return i\n",
        "    return -1\n",
        "haystack1 = \"house\"\n",
        "needle1 = \"ose\"\n",
        "result1 = str_str(haystack1, needle1)\n",
        "print(result1)\n",
        "# haystack2 = \"apple\"\n",
        "# needle2 = \"appo\"\n",
        "# result2 = str_str(haystack2, needle2)\n",
        "# print(result2)"
      ]
    },
    {
      "cell_type": "markdown",
      "id": "916e39e1",
      "metadata": {
        "id": "916e39e1"
      },
      "source": [
        "### Question 4\n",
        "\n",
        "Enter a number and have the program generate the Fibonacci sequence to that number or to the Nth number."
      ]
    },
    {
      "cell_type": "code",
      "execution_count": null,
      "id": "2bc0707f",
      "metadata": {
        "id": "2bc0707f"
      },
      "outputs": [],
      "source": []
    },
    {
      "cell_type": "markdown",
      "id": "1f0c9bfa",
      "metadata": {
        "id": "1f0c9bfa"
      },
      "source": [
        "### Question 5\n",
        "Given two integers, return True if the sum of the integers is 20 or if one of the integers is 20. If not, return False"
      ]
    },
    {
      "cell_type": "code",
      "execution_count": null,
      "id": "4030ce7f",
      "metadata": {
        "colab": {
          "base_uri": "https://localhost:8080/"
        },
        "id": "4030ce7f",
        "outputId": "5f6b8376-1dd3-4b1a-e659-72a9ea596f9e"
      },
      "outputs": [
        {
          "output_type": "stream",
          "name": "stdout",
          "text": [
            "False\n"
          ]
        }
      ],
      "source": [
        "def function(a,b):\n",
        "  return a+b==0 or a==0 or b==0\n",
        "a=13\n",
        "b=10\n",
        "result=function(a,b)\n",
        "print(result)"
      ]
    },
    {
      "cell_type": "markdown",
      "id": "947855f9",
      "metadata": {
        "id": "947855f9"
      },
      "source": [
        "### Question 6\n",
        "\n",
        "Convert Celsius to Fahrenheit (Use list comprehension)<br>\n",
        "celsius = [0,10,20.1,34.5]"
      ]
    },
    {
      "cell_type": "code",
      "execution_count": null,
      "id": "ee590475",
      "metadata": {
        "colab": {
          "base_uri": "https://localhost:8080/"
        },
        "id": "ee590475",
        "outputId": "6b5e2c90-c0b6-45c9-aa70-2850b67d6975"
      },
      "outputs": [
        {
          "output_type": "stream",
          "name": "stdout",
          "text": [
            "Celsius Temperatures: [0, 10, 20.1, 34.5]\n",
            "Fahrenheit Temperatures: [32.0, 50.0, 68.18, 94.1]\n"
          ]
        }
      ],
      "source": [
        "celsius_temperatures = [0, 10, 20.1, 34.5]\n",
        "fahrenheit_temperatures = [(9/5) * c + 32 for c in celsius_temperatures]\n",
        "\n",
        "print(f\"Celsius Temperatures: {celsius_temperatures}\")\n",
        "print(f\"Fahrenheit Temperatures: {fahrenheit_temperatures}\")"
      ]
    },
    {
      "cell_type": "markdown",
      "id": "26d6af81",
      "metadata": {
        "id": "26d6af81"
      },
      "source": [
        "### Question 7\n",
        "\n",
        "Create a simple program to manage a stack? The stack should have a maximum limit of 10 elements. Include two functions: one for adding (pushing) an element to the stack and another for removing (popping) an element from the stack. If the stack is full and someone tries to add an element, return a message saying the stack is full. If the stack is empty and someone tries to remove an element, return a message saying the stack is empty and no element can be removed.<br>\n",
        "\n",
        "<b>Note:</b> Stack follows FIFO (first in first out) rule"
      ]
    },
    {
      "cell_type": "code",
      "execution_count": null,
      "id": "da16794b",
      "metadata": {
        "id": "da16794b"
      },
      "outputs": [],
      "source": []
    },
    {
      "cell_type": "markdown",
      "id": "c34f3ddd",
      "metadata": {
        "id": "c34f3ddd"
      },
      "source": [
        "### Question 8\n",
        "\n",
        "Create a function which will take list as an input argument! If a number can be divided evenly by 3, print \"fizz.\" If it can be divided evenly by 5, print \"buzz.\" And if it can be divided evenly by both 3 and 5, print \"fizzbuzz.\"<br>\n",
        "<b>Note:</b>Use max two conditional statements."
      ]
    },
    {
      "cell_type": "code",
      "execution_count": null,
      "id": "483439fb",
      "metadata": {
        "colab": {
          "base_uri": "https://localhost:8080/"
        },
        "id": "483439fb",
        "outputId": "1b7b4476-91a2-4440-e6f8-8c7e094e8870"
      },
      "outputs": [
        {
          "output_type": "stream",
          "name": "stdout",
          "text": [
            "1\n",
            "2\n",
            "fizz\n",
            "4\n",
            "buzz\n",
            "fizzbuzz\n",
            "fizzbuzz\n"
          ]
        }
      ],
      "source": [
        "def fizzbuzz_list(numbers):\n",
        "    for number in numbers:\n",
        "        output = \"\"\n",
        "        if number % 3 == 0:\n",
        "            output += \"fizz\"\n",
        "        if number % 5 == 0:\n",
        "            output += \"buzz\"\n",
        "        print(output, number)\n",
        "numbers_list = [1, 2, 3, 4, 5, 15, 30]\n",
        "fizzbuzz_list(numbers_list)"
      ]
    }
  ],
  "metadata": {
    "kernelspec": {
      "display_name": "Python 3 (ipykernel)",
      "language": "python",
      "name": "python3"
    },
    "language_info": {
      "codemirror_mode": {
        "name": "ipython",
        "version": 3
      },
      "file_extension": ".py",
      "mimetype": "text/x-python",
      "name": "python",
      "nbconvert_exporter": "python",
      "pygments_lexer": "ipython3",
      "version": "3.10.9"
    },
    "colab": {
      "provenance": []
    }
  },
  "nbformat": 4,
  "nbformat_minor": 5
}