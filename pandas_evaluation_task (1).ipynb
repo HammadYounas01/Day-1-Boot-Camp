{
  "cells": [
    {
      "cell_type": "markdown",
      "metadata": {
        "id": "WeF9_BX4bCyn"
      },
      "source": [
        "# Perform the following analysis on the provided file \"demo.csv\".\n",
        "\n",
        "\n",
        "## 1. Which month saw the highest joining of the employees\n",
        "\n",
        "   function name: max_joinings_month()\n",
        "   \n",
        "   inputs: DataFrame\n",
        "\n",
        "   outputs: str\n",
        "   \n",
        "   \n",
        "## 2. What is the mean salary is the state KS\n",
        "\n",
        "   function name: mean_ks_salary()\n",
        "   \n",
        "   inputs: DataFrame\n",
        "\n",
        "   outputs: float\n",
        "   \n",
        "   \n",
        "## 3. Which Region has highest mean salary\n",
        "\n",
        "   function name: max_mean_salary_region()\n",
        "\n",
        "   inputs: DataFrame\n",
        "\n",
        "   outputs: str\n",
        "   \n",
        "   \n",
        "## 4. Which region has lowest mean salary\n",
        "\n",
        "   function name: min_mean_salary_region()\n",
        "\n",
        "   inputs: DataFrame\n",
        "\n",
        "   outputs: str\n",
        "   \n",
        "   \n",
        "## 5. Which City has highest mean weight\n",
        "\n",
        "   function name: max_mean_weight_city()\n",
        "\n",
        "   inputs: DataFrame\n",
        "\n",
        "   outputs: str\n",
        "   \n",
        "   \n",
        "## 6. What is the difference between mean salary of Doctors and Professors\n",
        "\n",
        "   function name: dr_prof_mean_salary_diff()\n",
        "\n",
        "   inputs: DataFrame\n",
        "\n",
        "   outputs: float\n",
        "   \n",
        "   \n",
        "## 7. How many female use yahoo\n",
        "\n",
        "   function name: females_with_yahoo()\n",
        "\n",
        "   inputs: DataFrame\n",
        "\n",
        "   outputs: int\n",
        "   \n",
        "   \n",
        "## 8. How many Doctors use gmail\n",
        "\n",
        "   function name: doctors_with_gmail()\n",
        "\n",
        "   inputs: DataFrame\n",
        "\n",
        "   outputs: int\n",
        "   \n",
        "   \n",
        "## 9. What is the password of the youngest male\n",
        "\n",
        "   function name: youngest_male_password()\n",
        "\n",
        "   inputs: DataFrame\n",
        "\n",
        "   outputs: str\n"
      ]
    },
    {
      "cell_type": "code",
      "execution_count": 53,
      "metadata": {
        "id": "xIYgzNDibCy9"
      },
      "outputs": [],
      "source": [
        "import pandas as pd\n",
        "\n",
        "# demo.csv\n",
        "# file_path = \"demo.csv\"\n",
        "# df = pd.read_csv(file_path)\n",
        "# display(df)\n",
        "\n",
        "# test.csv\n",
        "file_path = \"test1.csv\"\n",
        "test_df = pd.read_csv(file_path)\n",
        "# display(test_df)\n"
      ]
    },
    {
      "cell_type": "markdown",
      "metadata": {
        "id": "oBC1WgmCbCzA"
      },
      "source": [
        "## 1. Which month saw the highest joining of the employees\n",
        "\n",
        "   function name: max_joinings_month()\n",
        "   \n",
        "   inputs: DataFrame\n",
        "\n",
        "   outputs: str"
      ]
    },
    {
      "cell_type": "code",
      "execution_count": 54,
      "metadata": {
        "colab": {
          "base_uri": "https://localhost:8080/",
          "height": 390
        },
        "id": "tVhOZrM3bCzA",
        "outputId": "1af5bbe2-0e09-44d4-96c3-27887a6ae1c6"
      },
      "outputs": [
        {
          "output_type": "stream",
          "name": "stdout",
          "text": [
            "The month with the highest joinings is: 1\n",
            "on demo.csv None\n"
          ]
        },
        {
          "output_type": "error",
          "ename": "TypeError",
          "evalue": "ignored",
          "traceback": [
            "\u001b[0;31m---------------------------------------------------------------------------\u001b[0m",
            "\u001b[0;31mTypeError\u001b[0m                                 Traceback (most recent call last)",
            "\u001b[0;32m<ipython-input-54-45741a651933>\u001b[0m in \u001b[0;36m<cell line: 11>\u001b[0;34m()\u001b[0m\n\u001b[1;32m      9\u001b[0m \u001b[0mdf\u001b[0m \u001b[0;34m=\u001b[0m \u001b[0;34m'demo.csv'\u001b[0m\u001b[0;34m\u001b[0m\u001b[0;34m\u001b[0m\u001b[0m\n\u001b[1;32m     10\u001b[0m \u001b[0mprint\u001b[0m\u001b[0;34m(\u001b[0m\u001b[0;34m\"on demo.csv\"\u001b[0m\u001b[0;34m,\u001b[0m\u001b[0mmax_joinings_month\u001b[0m\u001b[0;34m(\u001b[0m\u001b[0mdf\u001b[0m\u001b[0;34m)\u001b[0m\u001b[0;34m)\u001b[0m\u001b[0;34m\u001b[0m\u001b[0;34m\u001b[0m\u001b[0m\n\u001b[0;32m---> 11\u001b[0;31m \u001b[0mprint\u001b[0m\u001b[0;34m(\u001b[0m\u001b[0;34m\"on test.csv\"\u001b[0m\u001b[0;34m,\u001b[0m\u001b[0mmax_joinings_month\u001b[0m\u001b[0;34m(\u001b[0m\u001b[0mtest_df\u001b[0m\u001b[0;34m)\u001b[0m\u001b[0;34m)\u001b[0m\u001b[0;34m\u001b[0m\u001b[0;34m\u001b[0m\u001b[0m\n\u001b[0m",
            "\u001b[0;32m<ipython-input-54-45741a651933>\u001b[0m in \u001b[0;36mmax_joinings_month\u001b[0;34m(df)\u001b[0m\n\u001b[1;32m      1\u001b[0m \u001b[0;32mimport\u001b[0m \u001b[0mpandas\u001b[0m \u001b[0;32mas\u001b[0m \u001b[0mpd\u001b[0m\u001b[0;34m\u001b[0m\u001b[0;34m\u001b[0m\u001b[0m\n\u001b[1;32m      2\u001b[0m \u001b[0;32mdef\u001b[0m \u001b[0mmax_joinings_month\u001b[0m\u001b[0;34m(\u001b[0m\u001b[0mdf\u001b[0m\u001b[0;34m)\u001b[0m\u001b[0;34m:\u001b[0m\u001b[0;34m\u001b[0m\u001b[0;34m\u001b[0m\u001b[0m\n\u001b[0;32m----> 3\u001b[0;31m     \u001b[0mdf\u001b[0m \u001b[0;34m=\u001b[0m \u001b[0mpd\u001b[0m\u001b[0;34m.\u001b[0m\u001b[0mread_csv\u001b[0m\u001b[0;34m(\u001b[0m\u001b[0mdf\u001b[0m\u001b[0;34m)\u001b[0m\u001b[0;34m\u001b[0m\u001b[0;34m\u001b[0m\u001b[0m\n\u001b[0m\u001b[1;32m      4\u001b[0m     \u001b[0mdf\u001b[0m\u001b[0;34m[\u001b[0m\u001b[0;34m'Day of Joining'\u001b[0m\u001b[0;34m]\u001b[0m \u001b[0;34m=\u001b[0m \u001b[0mpd\u001b[0m\u001b[0;34m.\u001b[0m\u001b[0mto_datetime\u001b[0m\u001b[0;34m(\u001b[0m\u001b[0mdf\u001b[0m\u001b[0;34m[\u001b[0m\u001b[0;34m'Day of Joining'\u001b[0m\u001b[0;34m]\u001b[0m\u001b[0;34m)\u001b[0m\u001b[0;34m\u001b[0m\u001b[0;34m\u001b[0m\u001b[0m\n\u001b[1;32m      5\u001b[0m     \u001b[0mdf\u001b[0m\u001b[0;34m[\u001b[0m\u001b[0;34m'Short Month'\u001b[0m\u001b[0;34m]\u001b[0m \u001b[0;34m=\u001b[0m \u001b[0mdf\u001b[0m\u001b[0;34m[\u001b[0m\u001b[0;34m'Day of Joining'\u001b[0m\u001b[0;34m]\u001b[0m\u001b[0;34m.\u001b[0m\u001b[0mdt\u001b[0m\u001b[0;34m.\u001b[0m\u001b[0mmonth\u001b[0m\u001b[0;34m\u001b[0m\u001b[0;34m\u001b[0m\u001b[0m\n",
            "\u001b[0;32m/usr/local/lib/python3.10/dist-packages/pandas/util/_decorators.py\u001b[0m in \u001b[0;36mwrapper\u001b[0;34m(*args, **kwargs)\u001b[0m\n\u001b[1;32m    209\u001b[0m                 \u001b[0;32melse\u001b[0m\u001b[0;34m:\u001b[0m\u001b[0;34m\u001b[0m\u001b[0;34m\u001b[0m\u001b[0m\n\u001b[1;32m    210\u001b[0m                     \u001b[0mkwargs\u001b[0m\u001b[0;34m[\u001b[0m\u001b[0mnew_arg_name\u001b[0m\u001b[0;34m]\u001b[0m \u001b[0;34m=\u001b[0m \u001b[0mnew_arg_value\u001b[0m\u001b[0;34m\u001b[0m\u001b[0;34m\u001b[0m\u001b[0m\n\u001b[0;32m--> 211\u001b[0;31m             \u001b[0;32mreturn\u001b[0m \u001b[0mfunc\u001b[0m\u001b[0;34m(\u001b[0m\u001b[0;34m*\u001b[0m\u001b[0margs\u001b[0m\u001b[0;34m,\u001b[0m \u001b[0;34m**\u001b[0m\u001b[0mkwargs\u001b[0m\u001b[0;34m)\u001b[0m\u001b[0;34m\u001b[0m\u001b[0;34m\u001b[0m\u001b[0m\n\u001b[0m\u001b[1;32m    212\u001b[0m \u001b[0;34m\u001b[0m\u001b[0m\n\u001b[1;32m    213\u001b[0m         \u001b[0;32mreturn\u001b[0m \u001b[0mcast\u001b[0m\u001b[0;34m(\u001b[0m\u001b[0mF\u001b[0m\u001b[0;34m,\u001b[0m \u001b[0mwrapper\u001b[0m\u001b[0;34m)\u001b[0m\u001b[0;34m\u001b[0m\u001b[0;34m\u001b[0m\u001b[0m\n",
            "\u001b[0;32m/usr/local/lib/python3.10/dist-packages/pandas/util/_decorators.py\u001b[0m in \u001b[0;36mwrapper\u001b[0;34m(*args, **kwargs)\u001b[0m\n\u001b[1;32m    329\u001b[0m                     \u001b[0mstacklevel\u001b[0m\u001b[0;34m=\u001b[0m\u001b[0mfind_stack_level\u001b[0m\u001b[0;34m(\u001b[0m\u001b[0;34m)\u001b[0m\u001b[0;34m,\u001b[0m\u001b[0;34m\u001b[0m\u001b[0;34m\u001b[0m\u001b[0m\n\u001b[1;32m    330\u001b[0m                 )\n\u001b[0;32m--> 331\u001b[0;31m             \u001b[0;32mreturn\u001b[0m \u001b[0mfunc\u001b[0m\u001b[0;34m(\u001b[0m\u001b[0;34m*\u001b[0m\u001b[0margs\u001b[0m\u001b[0;34m,\u001b[0m \u001b[0;34m**\u001b[0m\u001b[0mkwargs\u001b[0m\u001b[0;34m)\u001b[0m\u001b[0;34m\u001b[0m\u001b[0;34m\u001b[0m\u001b[0m\n\u001b[0m\u001b[1;32m    332\u001b[0m \u001b[0;34m\u001b[0m\u001b[0m\n\u001b[1;32m    333\u001b[0m         \u001b[0;31m# error: \"Callable[[VarArg(Any), KwArg(Any)], Any]\" has no\u001b[0m\u001b[0;34m\u001b[0m\u001b[0;34m\u001b[0m\u001b[0m\n",
            "\u001b[0;32m/usr/local/lib/python3.10/dist-packages/pandas/io/parsers/readers.py\u001b[0m in \u001b[0;36mread_csv\u001b[0;34m(filepath_or_buffer, sep, delimiter, header, names, index_col, usecols, squeeze, prefix, mangle_dupe_cols, dtype, engine, converters, true_values, false_values, skipinitialspace, skiprows, skipfooter, nrows, na_values, keep_default_na, na_filter, verbose, skip_blank_lines, parse_dates, infer_datetime_format, keep_date_col, date_parser, dayfirst, cache_dates, iterator, chunksize, compression, thousands, decimal, lineterminator, quotechar, quoting, doublequote, escapechar, comment, encoding, encoding_errors, dialect, error_bad_lines, warn_bad_lines, on_bad_lines, delim_whitespace, low_memory, memory_map, float_precision, storage_options)\u001b[0m\n\u001b[1;32m    948\u001b[0m     \u001b[0mkwds\u001b[0m\u001b[0;34m.\u001b[0m\u001b[0mupdate\u001b[0m\u001b[0;34m(\u001b[0m\u001b[0mkwds_defaults\u001b[0m\u001b[0;34m)\u001b[0m\u001b[0;34m\u001b[0m\u001b[0;34m\u001b[0m\u001b[0m\n\u001b[1;32m    949\u001b[0m \u001b[0;34m\u001b[0m\u001b[0m\n\u001b[0;32m--> 950\u001b[0;31m     \u001b[0;32mreturn\u001b[0m \u001b[0m_read\u001b[0m\u001b[0;34m(\u001b[0m\u001b[0mfilepath_or_buffer\u001b[0m\u001b[0;34m,\u001b[0m \u001b[0mkwds\u001b[0m\u001b[0;34m)\u001b[0m\u001b[0;34m\u001b[0m\u001b[0;34m\u001b[0m\u001b[0m\n\u001b[0m\u001b[1;32m    951\u001b[0m \u001b[0;34m\u001b[0m\u001b[0m\n\u001b[1;32m    952\u001b[0m \u001b[0;34m\u001b[0m\u001b[0m\n",
            "\u001b[0;32m/usr/local/lib/python3.10/dist-packages/pandas/io/parsers/readers.py\u001b[0m in \u001b[0;36m_read\u001b[0;34m(filepath_or_buffer, kwds)\u001b[0m\n\u001b[1;32m    603\u001b[0m \u001b[0;34m\u001b[0m\u001b[0m\n\u001b[1;32m    604\u001b[0m     \u001b[0;31m# Create the parser.\u001b[0m\u001b[0;34m\u001b[0m\u001b[0;34m\u001b[0m\u001b[0m\n\u001b[0;32m--> 605\u001b[0;31m     \u001b[0mparser\u001b[0m \u001b[0;34m=\u001b[0m \u001b[0mTextFileReader\u001b[0m\u001b[0;34m(\u001b[0m\u001b[0mfilepath_or_buffer\u001b[0m\u001b[0;34m,\u001b[0m \u001b[0;34m**\u001b[0m\u001b[0mkwds\u001b[0m\u001b[0;34m)\u001b[0m\u001b[0;34m\u001b[0m\u001b[0;34m\u001b[0m\u001b[0m\n\u001b[0m\u001b[1;32m    606\u001b[0m \u001b[0;34m\u001b[0m\u001b[0m\n\u001b[1;32m    607\u001b[0m     \u001b[0;32mif\u001b[0m \u001b[0mchunksize\u001b[0m \u001b[0;32mor\u001b[0m \u001b[0miterator\u001b[0m\u001b[0;34m:\u001b[0m\u001b[0;34m\u001b[0m\u001b[0;34m\u001b[0m\u001b[0m\n",
            "\u001b[0;32m/usr/local/lib/python3.10/dist-packages/pandas/io/parsers/readers.py\u001b[0m in \u001b[0;36m__init__\u001b[0;34m(self, f, engine, **kwds)\u001b[0m\n\u001b[1;32m   1440\u001b[0m \u001b[0;34m\u001b[0m\u001b[0m\n\u001b[1;32m   1441\u001b[0m         \u001b[0mself\u001b[0m\u001b[0;34m.\u001b[0m\u001b[0mhandles\u001b[0m\u001b[0;34m:\u001b[0m \u001b[0mIOHandles\u001b[0m \u001b[0;34m|\u001b[0m \u001b[0;32mNone\u001b[0m \u001b[0;34m=\u001b[0m \u001b[0;32mNone\u001b[0m\u001b[0;34m\u001b[0m\u001b[0;34m\u001b[0m\u001b[0m\n\u001b[0;32m-> 1442\u001b[0;31m         \u001b[0mself\u001b[0m\u001b[0;34m.\u001b[0m\u001b[0m_engine\u001b[0m \u001b[0;34m=\u001b[0m \u001b[0mself\u001b[0m\u001b[0;34m.\u001b[0m\u001b[0m_make_engine\u001b[0m\u001b[0;34m(\u001b[0m\u001b[0mf\u001b[0m\u001b[0;34m,\u001b[0m \u001b[0mself\u001b[0m\u001b[0;34m.\u001b[0m\u001b[0mengine\u001b[0m\u001b[0;34m)\u001b[0m\u001b[0;34m\u001b[0m\u001b[0;34m\u001b[0m\u001b[0m\n\u001b[0m\u001b[1;32m   1443\u001b[0m \u001b[0;34m\u001b[0m\u001b[0m\n\u001b[1;32m   1444\u001b[0m     \u001b[0;32mdef\u001b[0m \u001b[0mclose\u001b[0m\u001b[0;34m(\u001b[0m\u001b[0mself\u001b[0m\u001b[0;34m)\u001b[0m \u001b[0;34m->\u001b[0m \u001b[0;32mNone\u001b[0m\u001b[0;34m:\u001b[0m\u001b[0;34m\u001b[0m\u001b[0;34m\u001b[0m\u001b[0m\n",
            "\u001b[0;32m/usr/local/lib/python3.10/dist-packages/pandas/io/parsers/readers.py\u001b[0m in \u001b[0;36m_make_engine\u001b[0;34m(self, f, engine)\u001b[0m\n\u001b[1;32m   1733\u001b[0m                 \u001b[0;32mif\u001b[0m \u001b[0;34m\"b\"\u001b[0m \u001b[0;32mnot\u001b[0m \u001b[0;32min\u001b[0m \u001b[0mmode\u001b[0m\u001b[0;34m:\u001b[0m\u001b[0;34m\u001b[0m\u001b[0;34m\u001b[0m\u001b[0m\n\u001b[1;32m   1734\u001b[0m                     \u001b[0mmode\u001b[0m \u001b[0;34m+=\u001b[0m \u001b[0;34m\"b\"\u001b[0m\u001b[0;34m\u001b[0m\u001b[0;34m\u001b[0m\u001b[0m\n\u001b[0;32m-> 1735\u001b[0;31m             self.handles = get_handle(\n\u001b[0m\u001b[1;32m   1736\u001b[0m                 \u001b[0mf\u001b[0m\u001b[0;34m,\u001b[0m\u001b[0;34m\u001b[0m\u001b[0;34m\u001b[0m\u001b[0m\n\u001b[1;32m   1737\u001b[0m                 \u001b[0mmode\u001b[0m\u001b[0;34m,\u001b[0m\u001b[0;34m\u001b[0m\u001b[0;34m\u001b[0m\u001b[0m\n",
            "\u001b[0;32m/usr/local/lib/python3.10/dist-packages/pandas/io/common.py\u001b[0m in \u001b[0;36mget_handle\u001b[0;34m(path_or_buf, mode, encoding, compression, memory_map, is_text, errors, storage_options)\u001b[0m\n\u001b[1;32m    702\u001b[0m \u001b[0;34m\u001b[0m\u001b[0m\n\u001b[1;32m    703\u001b[0m     \u001b[0;31m# read_csv does not know whether the buffer is opened in binary/text mode\u001b[0m\u001b[0;34m\u001b[0m\u001b[0;34m\u001b[0m\u001b[0m\n\u001b[0;32m--> 704\u001b[0;31m     \u001b[0;32mif\u001b[0m \u001b[0m_is_binary_mode\u001b[0m\u001b[0;34m(\u001b[0m\u001b[0mpath_or_buf\u001b[0m\u001b[0;34m,\u001b[0m \u001b[0mmode\u001b[0m\u001b[0;34m)\u001b[0m \u001b[0;32mand\u001b[0m \u001b[0;34m\"b\"\u001b[0m \u001b[0;32mnot\u001b[0m \u001b[0;32min\u001b[0m \u001b[0mmode\u001b[0m\u001b[0;34m:\u001b[0m\u001b[0;34m\u001b[0m\u001b[0;34m\u001b[0m\u001b[0m\n\u001b[0m\u001b[1;32m    705\u001b[0m         \u001b[0mmode\u001b[0m \u001b[0;34m+=\u001b[0m \u001b[0;34m\"b\"\u001b[0m\u001b[0;34m\u001b[0m\u001b[0;34m\u001b[0m\u001b[0m\n\u001b[1;32m    706\u001b[0m \u001b[0;34m\u001b[0m\u001b[0m\n",
            "\u001b[0;32m/usr/local/lib/python3.10/dist-packages/pandas/io/common.py\u001b[0m in \u001b[0;36m_is_binary_mode\u001b[0;34m(handle, mode)\u001b[0m\n\u001b[1;32m   1161\u001b[0m         \u001b[0;32mreturn\u001b[0m \u001b[0;32mFalse\u001b[0m\u001b[0;34m\u001b[0m\u001b[0;34m\u001b[0m\u001b[0m\n\u001b[1;32m   1162\u001b[0m \u001b[0;34m\u001b[0m\u001b[0m\n\u001b[0;32m-> 1163\u001b[0;31m     return isinstance(handle, _get_binary_io_classes()) or \"b\" in getattr(\n\u001b[0m\u001b[1;32m   1164\u001b[0m         \u001b[0mhandle\u001b[0m\u001b[0;34m,\u001b[0m \u001b[0;34m\"mode\"\u001b[0m\u001b[0;34m,\u001b[0m \u001b[0mmode\u001b[0m\u001b[0;34m\u001b[0m\u001b[0;34m\u001b[0m\u001b[0m\n\u001b[1;32m   1165\u001b[0m     )\n",
            "\u001b[0;31mTypeError\u001b[0m: argument of type 'method' is not iterable"
          ]
        }
      ],
      "source": [
        "import pandas as pd\n",
        "def max_joinings_month(df):\n",
        "    df = pd.read_csv(df)\n",
        "    df['Day of Joining'] = pd.to_datetime(df['Day of Joining'])\n",
        "    df['Short Month'] = df['Day of Joining'].dt.month\n",
        "    monthly_joinings = df.groupby('Short Month').size().reset_index(name='join_count')\n",
        "    max_join_month = monthly_joinings.loc[monthly_joinings['join_count'].idxmax()]['Short Month']\n",
        "    print(f\"The month with the highest joinings is: {max_join_month}\")\n",
        "df = 'demo.csv'\n",
        "print(\"on demo.csv\",max_joinings_month(df))\n",
        "print(\"on test.csv\",max_joinings_month(test_df))\n"
      ]
    },
    {
      "cell_type": "markdown",
      "metadata": {
        "id": "iNW9-c-jbCzB"
      },
      "source": [
        "## 2. What is the mean salary is the state KS\n",
        "\n",
        "   function name: mean_ks_salary()\n",
        "   \n",
        "   inputs: DataFrame\n",
        "\n",
        "   outputs: float"
      ]
    },
    {
      "cell_type": "code",
      "execution_count": 55,
      "metadata": {
        "colab": {
          "base_uri": "https://localhost:8080/"
        },
        "id": "qlmo8rxVbCzB",
        "outputId": "2f734943-5f4c-4423-fcb9-538e4cdfb2de"
      },
      "outputs": [
        {
          "output_type": "stream",
          "name": "stdout",
          "text": [
            "The mean salary in the state of KS is: 104225.45454545454\n",
            "on demo.csv 104225.45454545454\n",
            "on test.csv 121682.33333333333\n"
          ]
        }
      ],
      "source": [
        "def mean_ks_salary(df):\n",
        "    ks_data = df[df['State'] == 'KS']\n",
        "    if ks_data.empty:\n",
        "        return None\n",
        "    mean_salary_ks = ks_data['Salary'].mean()\n",
        "\n",
        "    return mean_salary_ks\n",
        "file_path = 'demo.csv'\n",
        "df = pd.read_csv(file_path)\n",
        "result = mean_ks_salary(df)\n",
        "\n",
        "if result is not None:\n",
        "    print(f\"The mean salary in the state of KS is: {result}\")\n",
        "else:\n",
        "    print(\"No data available for the state of KS.\")\n",
        "\n",
        "print(\"on demo.csv\",mean_ks_salary(df))\n",
        "print(\"on test.csv\",mean_ks_salary(test_df))\n"
      ]
    },
    {
      "cell_type": "markdown",
      "metadata": {
        "id": "QEkrnZKwbCzC"
      },
      "source": [
        "## 3. Which Region has highest mean salary\n",
        "\n",
        "   function name: max_mean_salary_region()\n",
        "\n",
        "   inputs: DataFrame\n",
        "\n",
        "   outputs: str"
      ]
    },
    {
      "cell_type": "code",
      "execution_count": 56,
      "metadata": {
        "colab": {
          "base_uri": "https://localhost:8080/"
        },
        "id": "qSQTzAoVbCzC",
        "outputId": "526a7a10-a5f3-4996-a331-da466f0a1f72"
      },
      "outputs": [
        {
          "output_type": "stream",
          "name": "stdout",
          "text": [
            "The region with the highest mean salary is: Midwest\n",
            "on demo.csv Midwest\n",
            "on test.csv West\n"
          ]
        }
      ],
      "source": [
        "def max_mean_salary_region(df):\n",
        "    region_mean_salary = df.groupby('Region')['Salary'].mean()\n",
        "\n",
        "    if region_mean_salary.empty:\n",
        "        return None\n",
        "    max_mean_salary_region = region_mean_salary.idxmax()\n",
        "    return max_mean_salary_region\n",
        "file_path = 'demo.csv'\n",
        "df = pd.read_csv(file_path)\n",
        "result = max_mean_salary_region(df)\n",
        "if result is not None:\n",
        "    print(f\"The region with the highest mean salary is: {result}\")\n",
        "else:\n",
        "    print(\"No data available.\")\n",
        "print(\"on demo.csv\",max_mean_salary_region(df))\n",
        "print(\"on test.csv\",max_mean_salary_region(test_df))\n"
      ]
    },
    {
      "cell_type": "markdown",
      "metadata": {
        "id": "G3YQf9h6bCzD"
      },
      "source": [
        "## 4. Which region has lowest mean salary\n",
        "\n",
        "   function name: min_mean_salary_region()\n",
        "\n",
        "   inputs: DataFrame\n",
        "\n",
        "   outputs: str"
      ]
    },
    {
      "cell_type": "code",
      "execution_count": 57,
      "metadata": {
        "colab": {
          "base_uri": "https://localhost:8080/"
        },
        "id": "VQLv2U12bCzE",
        "outputId": "e2e70598-0339-49f1-f6dc-8733671051b7"
      },
      "outputs": [
        {
          "output_type": "stream",
          "name": "stdout",
          "text": [
            "The region with the lowest mean salary is: West\n",
            "on demo.csv West\n",
            "on test.csv Midwest\n"
          ]
        }
      ],
      "source": [
        "def min_mean_salary_region(df):\n",
        "    region_mean_salary = df.groupby('Region')['Salary'].mean()\n",
        "\n",
        "    if region_mean_salary.empty:\n",
        "        return None\n",
        "    min_mean_salary_region = region_mean_salary.idxmin()\n",
        "\n",
        "    return min_mean_salary_region\n",
        "file_path = 'demo.csv'\n",
        "df = pd.read_csv(file_path)\n",
        "result = min_mean_salary_region(df)\n",
        "if result is not None:\n",
        "    print(f\"The region with the lowest mean salary is: {result}\")\n",
        "else:\n",
        "    print(\"No data available.\")\n",
        "\n",
        "print(\"on demo.csv\",min_mean_salary_region(df))\n",
        "print(\"on test.csv\",min_mean_salary_region(test_df))\n"
      ]
    },
    {
      "cell_type": "markdown",
      "metadata": {
        "id": "A4KILZyCbCzF"
      },
      "source": [
        "## 5. Which City has highest mean weight\n",
        "\n",
        "   function name: max_mean_weight_city()\n",
        "\n",
        "   inputs: DataFrame\n",
        "\n",
        "   outputs: str"
      ]
    },
    {
      "cell_type": "code",
      "execution_count": 58,
      "metadata": {
        "colab": {
          "base_uri": "https://localhost:8080/"
        },
        "id": "q13DknXMbCzG",
        "outputId": "80466497-323b-4da6-f337-78b8073c29ce"
      },
      "outputs": [
        {
          "output_type": "stream",
          "name": "stdout",
          "text": [
            "The city with the highest mean weight is: Conroe\n",
            "on demo.csv Conroe\n",
            "on test.csv Conroe\n"
          ]
        }
      ],
      "source": [
        "def max_mean_weight_city(df):\n",
        "    city_mean_weight = df.groupby('City')['Weight in Kgs.'].mean()\n",
        "\n",
        "    if city_mean_weight.empty:\n",
        "        return None\n",
        "    max_mean_weight_city = city_mean_weight.idxmax()\n",
        "    return max_mean_weight_city\n",
        "file_path = 'demo.csv'\n",
        "df = pd.read_csv(file_path)\n",
        "result = max_mean_weight_city(df)\n",
        "if result is not None:\n",
        "    print(f\"The city with the highest mean weight is: {result}\")\n",
        "else:\n",
        "    print(\"No data available.\")\n",
        "\n",
        "print(\"on demo.csv\",max_mean_weight_city(df))\n",
        "print(\"on test.csv\",max_mean_weight_city(test_df))\n"
      ]
    },
    {
      "cell_type": "markdown",
      "metadata": {
        "id": "-WvGvxsDbCzG"
      },
      "source": [
        "## 6. What is the difference between mean salary of Doctors and Professors\n",
        "\n",
        "   function name: dr_prof_mean_salary_diff()\n",
        "\n",
        "   inputs: DataFrame\n",
        "\n",
        "   outputs: float"
      ]
    },
    {
      "cell_type": "code",
      "execution_count": 59,
      "metadata": {
        "colab": {
          "base_uri": "https://localhost:8080/"
        },
        "id": "wyICPGVHbCzH",
        "outputId": "0aa1fec8-dd7e-4b64-9e5c-e3ebe717370a"
      },
      "outputs": [
        {
          "output_type": "stream",
          "name": "stdout",
          "text": [
            "The difference in mean salary between Doctors and Professors is: 1628.2547892720177\n"
          ]
        }
      ],
      "source": [
        "def dr_prof_mean_salary_diff(df):\n",
        "\n",
        "    doctors_data = df[df['Name Prefix'] == 'Drs.']\n",
        "    professors_data = df[df['Name Prefix'] == 'Prof.']\n",
        "    mean_salary_doctors = doctors_data['Salary'].mean()\n",
        "    mean_salary_professors = professors_data['Salary'].mean()\n",
        "    salary_diff = mean_salary_doctors - mean_salary_professors\n",
        "\n",
        "    return salary_diff\n",
        "file_path = 'demo.csv'\n",
        "df = pd.read_csv(file_path)\n",
        "result = dr_prof_mean_salary_diff(df)\n",
        "print(f\"The difference in mean salary between Doctors and Professors is: {result}\")\n"
      ]
    },
    {
      "cell_type": "markdown",
      "metadata": {
        "id": "ZZ-HR6dQbCzH"
      },
      "source": [
        "## 7. How many female use yahoo\n",
        "\n",
        "   function name: females_with_yahoo()\n",
        "\n",
        "   inputs: DataFrame\n",
        "\n",
        "   outputs: int"
      ]
    },
    {
      "cell_type": "code",
      "execution_count": null,
      "metadata": {
        "id": "81iny1WBbCzH",
        "outputId": "ac10c04d-14a1-42e1-8838-16430ca1b105"
      },
      "outputs": [
        {
          "name": "stdout",
          "output_type": "stream",
          "text": [
            "on demo.csv 69\n",
            "on test.csv Output Hidden\n"
          ]
        }
      ],
      "source": [
        "def females_with_yahoo(df):\n",
        "    # your code here\n",
        "\n",
        "print(\"on demo.csv\",females_with_yahoo(df))\n",
        "# print(\"on test.csv\",females_with_yahoo(test_df))\n"
      ]
    },
    {
      "cell_type": "markdown",
      "metadata": {
        "id": "YwDtL_7FbCzI"
      },
      "source": [
        "## 8. How many Doctors use gmail\n",
        "\n",
        "   function name: doctors_with_gmail()\n",
        "\n",
        "   inputs: DataFrame\n",
        "\n",
        "   outputs: int"
      ]
    },
    {
      "cell_type": "code",
      "execution_count": null,
      "metadata": {
        "id": "RaBqUQ2RbCzI",
        "outputId": "2805d4a6-6a70-4d10-b649-c7097794a832"
      },
      "outputs": [
        {
          "name": "stdout",
          "output_type": "stream",
          "text": [
            "on demo.csv 42\n",
            "on test.csv Output Hidden\n"
          ]
        }
      ],
      "source": [
        "def doctors_with_gmail(df):\n",
        "    # your code here\n",
        "\n",
        "print(\"on demo.csv\",doctors_with_gmail(df))\n",
        "# print(\"on test.csv\",doctors_with_gmail(test_df))\n"
      ]
    },
    {
      "cell_type": "markdown",
      "metadata": {
        "id": "tl1gzH0NbCzI"
      },
      "source": [
        "## 9. What is the password of the youngest male\n",
        "\n",
        "   function name: youngest_male_password()\n",
        "\n",
        "   inputs: DataFrame\n",
        "\n",
        "   outputs: str"
      ]
    },
    {
      "cell_type": "code",
      "execution_count": null,
      "metadata": {
        "id": "vikJ7vTcbCzJ",
        "outputId": "8fbd49a6-0a3e-499a-bc6c-d6bb6a42ddbd"
      },
      "outputs": [
        {
          "name": "stdout",
          "output_type": "stream",
          "text": [
            "on demo.csv xPr\\aGPTQ#v\n",
            "on test.csv Output Hidden\n"
          ]
        }
      ],
      "source": [
        "def youngest_male_password(df):\n",
        "    # your code here\n",
        "\n",
        "print(\"on demo.csv\",youngest_male_password(df))\n",
        "# print(\"on test.csv\",youngest_male_password(test_df))\n"
      ]
    }
  ],
  "metadata": {
    "kernelspec": {
      "display_name": "Python 3 (ipykernel)",
      "language": "python",
      "name": "python3"
    },
    "language_info": {
      "codemirror_mode": {
        "name": "ipython",
        "version": 3
      },
      "file_extension": ".py",
      "mimetype": "text/x-python",
      "name": "python",
      "nbconvert_exporter": "python",
      "pygments_lexer": "ipython3",
      "version": "3.11.5"
    },
    "colab": {
      "provenance": []
    }
  },
  "nbformat": 4,
  "nbformat_minor": 0
}