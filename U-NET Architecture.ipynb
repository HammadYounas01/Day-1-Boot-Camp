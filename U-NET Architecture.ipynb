{
 "cells": [
  {
   "cell_type": "code",
   "execution_count": 7,
   "id": "03478e38",
   "metadata": {},
   "outputs": [],
   "source": [
    "import os\n",
    "import numpy as np\n",
    "import tensorflow as tf\n",
    "from tensorflow.keras import layers, models\n",
    "from scipy.io import loadmat\n",
    "from sklearn.model_selection import train_test_split\n",
    "\n",
    "# Function to load data from .mat files\n",
    "def load_data_from_mat(file_path):\n",
    "    data = loadmat(file_path)\n",
    "    images = data['images']\n",
    "    masks = data['masks']\n",
    "    return images, masks\n",
    "\n",
    "# Load all .mat files in a directory\n",
    "def load_dataset(directory):\n",
    "    file_list = [f for f in os.listdir(directory) if f.endswith('.mat')]\n",
    "    images_list, masks_list = [], []\n",
    "    for file in file_list:\n",
    "        file_path = os.path.join(directory, file)\n",
    "        images, masks = load_data_from_mat(file_path)\n",
    "        images_list.append(images)\n",
    "        masks_list.append(masks)\n",
    "    return np.array(images_list), np.array(masks_list)\n",
    "\n",
    "# Define the U-Net architecture\n",
    "def unet_model(input_size=(256, 256, 3)):\n",
    "    # ... (same U-Net architecture as previous example) ...\n",
    "\n",
    "# Load and preprocess the dataset\n",
    "dataset_directory = 'images'\n",
    "images, masks = load_dataset(dataset_directory)\n",
    "\n",
    "# Split the dataset into training and testing sets\n",
    "train_images, test_images, train_masks, test_masks = train_test_split(images, masks, test_size=0.2, random_state=42)\n",
    "\n",
    "# Create the U-Net model\n",
    "unet = unet_model()\n",
    "\n",
    "# Compile the model\n",
    "unet.compile(optimizer='adam', loss='binary_crossentropy', metrics=['accuracy'])\n",
    "\n",
    "# Train the model\n",
    "unet.fit(train_images, train_masks, epochs=10, validation_data=(test_images, test_masks))\n"
   ]
  }
 ],
 "metadata": {
  "kernelspec": {
   "display_name": "Python 3 (ipykernel)",
   "language": "python",
   "name": "python3"
  },
  "language_info": {
   "codemirror_mode": {
    "name": "ipython",
    "version": 3
   },
   "file_extension": ".py",
   "mimetype": "text/x-python",
   "name": "python",
   "nbconvert_exporter": "python",
   "pygments_lexer": "ipython3",
   "version": "3.11.5"
  }
 },
 "nbformat": 4,
 "nbformat_minor": 5
}
