{
 "cells": [
  {
   "cell_type": "code",
   "execution_count": 61,
   "id": "fecedf29",
   "metadata": {},
   "outputs": [],
   "source": [
    "from sklearn.datasets import make_regression\n",
    "import matplotlib.pyplot as plt\n",
    "import numpy as np"
   ]
  },
  {
   "cell_type": "code",
   "execution_count": 62,
   "id": "cfba0c05",
   "metadata": {},
   "outputs": [],
   "source": [
    "X,y=make_regression(n_samples=100,n_features=1, n_informative=1, n_targets=1, noise=20)"
   ]
  },
  {
   "cell_type": "code",
   "execution_count": 63,
   "id": "aa34432b",
   "metadata": {},
   "outputs": [
    {
     "data": {
      "text/plain": [
       "<matplotlib.collections.PathCollection at 0x1d7c6bd1050>"
      ]
     },
     "execution_count": 63,
     "metadata": {},
     "output_type": "execute_result"
    },
    {
     "data": {
      "image/png": "[encoded data removed]",
      "text/plain": [
       "<Figure size 640x480 with 1 Axes>"
      ]
     },
     "metadata": {},
     "output_type": "display_data"
    }
   ],
   "source": [
    "plt.scatter(X,y)"
   ]
  },
  {
   "cell_type": "code",
   "execution_count": 64,
   "id": "a363b18d",
   "metadata": {},
   "outputs": [],
   "source": [
    "from sklearn.linear_model import LinearRegression"
   ]
  },
  {
   "cell_type": "code",
   "execution_count": 65,
   "id": "acc07bfc",
   "metadata": {},
   "outputs": [],
   "source": [
    "lr=LinearRegression()"
   ]
  },
  {
   "cell_type": "code",
   "execution_count": 66,
   "id": "9d70dd18",
   "metadata": {},
   "outputs": [
    {
     "data": {
      "text/html": [
       "<style>#sk-container-id-3 {color: black;}#sk-container-id-3 pre{padding: 0;}#sk-container-id-3 div.sk-toggleable {background-color: white;}#sk-container-id-3 label.sk-toggleable__label {cursor: pointer;display: block;width: 100%;margin-bottom: 0;padding: 0.3em;box-sizing: border-box;text-align: center;}#sk-container-id-3 label.sk-toggleable__label-arrow:before {content: \"▸\";float: left;margin-right: 0.25em;color: #696969;}#sk-container-id-3 label.sk-toggleable__label-arrow:hover:before {color: black;}#sk-container-id-3 div.sk-estimator:hover label.sk-toggleable__label-arrow:before {color: black;}#sk-container-id-3 div.sk-toggleable__content {max-height: 0;max-width: 0;overflow: hidden;text-align: left;background-color: #f0f8ff;}#sk-container-id-3 div.sk-toggleable__content pre {margin: 0.2em;color: black;border-radius: 0.25em;background-color: #f0f8ff;}#sk-container-id-3 input.sk-toggleable__control:checked~div.sk-toggleable__content {max-height: 200px;max-width: 100%;overflow: auto;}#sk-container-id-3 input.sk-toggleable__control:checked~label.sk-toggleable__label-arrow:before {content: \"▾\";}#sk-container-id-3 div.sk-estimator input.sk-toggleable__control:checked~label.sk-toggleable__label {background-color: #d4ebff;}#sk-container-id-3 div.sk-label input.sk-toggleable__control:checked~label.sk-toggleable__label {background-color: #d4ebff;}#sk-container-id-3 input.sk-hidden--visually {border: 0;clip: rect(1px 1px 1px 1px);clip: rect(1px, 1px, 1px, 1px);height: 1px;margin: -1px;overflow: hidden;padding: 0;position: absolute;width: 1px;}#sk-container-id-3 div.sk-estimator {font-family: monospace;background-color: #f0f8ff;border: 1px dotted black;border-radius: 0.25em;box-sizing: border-box;margin-bottom: 0.5em;}#sk-container-id-3 div.sk-estimator:hover {background-color: #d4ebff;}#sk-container-id-3 div.sk-parallel-item::after {content: \"\";width: 100%;border-bottom: 1px solid gray;flex-grow: 1;}#sk-container-id-3 div.sk-label:hover label.sk-toggleable__label {background-color: #d4ebff;}#sk-container-id-3 div.sk-serial::before {content: \"\";position: absolute;border-left: 1px solid gray;box-sizing: border-box;top: 0;bottom: 0;left: 50%;z-index: 0;}#sk-container-id-3 div.sk-serial {display: flex;flex-direction: column;align-items: center;background-color: white;padding-right: 0.2em;padding-left: 0.2em;position: relative;}#sk-container-id-3 div.sk-item {position: relative;z-index: 1;}#sk-container-id-3 div.sk-parallel {display: flex;align-items: stretch;justify-content: center;background-color: white;position: relative;}#sk-container-id-3 div.sk-item::before, #sk-container-id-3 div.sk-parallel-item::before {content: \"\";position: absolute;border-left: 1px solid gray;box-sizing: border-box;top: 0;bottom: 0;left: 50%;z-index: -1;}#sk-container-id-3 div.sk-parallel-item {display: flex;flex-direction: column;z-index: 1;position: relative;background-color: white;}#sk-container-id-3 div.sk-parallel-item:first-child::after {align-self: flex-end;width: 50%;}#sk-container-id-3 div.sk-parallel-item:last-child::after {align-self: flex-start;width: 50%;}#sk-container-id-3 div.sk-parallel-item:only-child::after {width: 0;}#sk-container-id-3 div.sk-dashed-wrapped {border: 1px dashed gray;margin: 0 0.4em 0.5em 0.4em;box-sizing: border-box;padding-bottom: 0.4em;background-color: white;}#sk-container-id-3 div.sk-label label {font-family: monospace;font-weight: bold;display: inline-block;line-height: 1.2em;}#sk-container-id-3 div.sk-label-container {text-align: center;}#sk-container-id-3 div.sk-container {/* jupyter's `normalize.less` sets `[hidden] { display: none; }` but bootstrap.min.css set `[hidden] { display: none !important; }` so we also need the `!important` here to be able to override the default hidden behavior on the sphinx rendered scikit-learn.org. See: https://github.com/scikit-learn/scikit-learn/issues/21755 */display: inline-block !important;position: relative;}#sk-container-id-3 div.sk-text-repr-fallback {display: none;}</style><div id=\"sk-container-id-3\" class=\"sk-top-container\"><div class=\"sk-text-repr-fallback\"><pre>LinearRegression()</pre><b>In a Jupyter environment, please rerun this cell to show the HTML representation or trust the notebook. <br />On GitHub, the HTML representation is unable to render, please try loading this page with nbviewer.org.</b></div><div class=\"sk-container\" hidden><div class=\"sk-item\"><div class=\"sk-estimator sk-toggleable\"><input class=\"sk-toggleable__control sk-hidden--visually\" id=\"sk-estimator-id-3\" type=\"checkbox\" checked><label for=\"sk-estimator-id-3\" class=\"sk-toggleable__label sk-toggleable__label-arrow\">LinearRegression</label><div class=\"sk-toggleable__content\"><pre>LinearRegression()</pre></div></div></div></div></div>"
      ],
      "text/plain": [
       "LinearRegression()"
      ]
     },
     "execution_count": 66,
     "metadata": {},
     "output_type": "execute_result"
    }
   ],
   "source": [
    "lr.fit(X,y)"
   ]
  },
  {
   "cell_type": "code",
   "execution_count": 67,
   "id": "5ff19e02",
   "metadata": {},
   "outputs": [
    {
     "data": {
      "text/plain": [
       "array([87.93486958])"
      ]
     },
     "execution_count": 67,
     "metadata": {},
     "output_type": "execute_result"
    }
   ],
   "source": [
    "lr.coef_"
   ]
  },
  {
   "cell_type": "code",
   "execution_count": 68,
   "id": "a68c47a1",
   "metadata": {},
   "outputs": [
    {
     "data": {
      "text/plain": [
       "-3.868931074714562"
      ]
     },
     "execution_count": 68,
     "metadata": {},
     "output_type": "execute_result"
    }
   ],
   "source": [
    "lr.intercept_"
   ]
  },
  {
   "cell_type": "code",
   "execution_count": 69,
   "id": "9b069908",
   "metadata": {},
   "outputs": [],
   "source": [
    "m=lr.coef_"
   ]
  },
  {
   "cell_type": "code",
   "execution_count": 76,
   "id": "e4a5e6d9",
   "metadata": {},
   "outputs": [],
   "source": [
    "class GDRegressor:\n",
    "    def __init__(self,learning_rate,epochs):\n",
    "        self.m=m\n",
    "        self.b=-120\n",
    "        self.lr=learning_rate\n",
    "        self.epochs=epochs\n",
    "    def fit(self,X,y):\n",
    "        # Calculate the b using GD\n",
    "        for i in range(self.epochs):\n",
    "            loss_slope=-2*np.sum(y-self.m*X.ravel()-self.b)\n",
    "            self.b=self.b-(self.lr*loss_slope)\n",
    "            print(loss_slope,self.b)\n",
    "        print(self.b)"
   ]
  },
  {
   "cell_type": "code",
   "execution_count": 79,
   "id": "4b4c6458",
   "metadata": {},
   "outputs": [],
   "source": [
    "gd = GDRegressor(0.001,100)"
   ]
  },
  {
   "cell_type": "code",
   "execution_count": 80,
   "id": "6b507844",
   "metadata": {},
   "outputs": [
    {
     "name": "stdout",
     "output_type": "stream",
     "text": [
      "-23226.213785057083 -96.77378621494292\n",
      "-18580.971028045675 -78.19281518689723\n",
      "-14864.776822436534 -63.3280383644607\n",
      "-11891.821457949227 -51.436216906511476\n",
      "-9513.457166359385 -41.92275974015209\n",
      "-7610.765733087504 -34.311994007064584\n",
      "-6088.612586470005 -28.223381420594578\n",
      "-4870.890069176002 -23.352491351418575\n",
      "-3896.7120553408017 -19.455779296077772\n",
      "-3117.369644272642 -16.33840965180513\n",
      "-2493.895715418113 -13.844513936387017\n",
      "-1995.1165723344905 -11.849397364052527\n",
      "-1596.0932578675925 -10.253304106184935\n",
      "-1276.8746062940743 -8.97642949989086\n",
      "-1021.4996850352594 -7.954929814855602\n",
      "-817.1997480282075 -7.137730066827394\n",
      "-653.7597984225658 -6.483970268404828\n",
      "-523.0078387380528 -5.960962429666775\n",
      "-418.4062709904423 -5.542556158676333\n",
      "-334.72501679235376 -5.207831141883979\n",
      "-267.78001343388286 -4.940051128450096\n",
      "-214.22401074710626 -4.72582711770299\n",
      "-171.37920859768525 -4.554447909105305\n",
      "-137.1033668781483 -4.417344542227157\n",
      "-109.6826935025183 -4.307661848724639\n",
      "-87.74615480201503 -4.2199156939226246\n",
      "-70.19692384161179 -4.149718770081013\n",
      "-56.157539073289776 -4.093561231007723\n",
      "-44.92603125863179 -4.048635199749092\n",
      "-35.940825006905634 -4.012694374742186\n",
      "-28.752660005524433 -3.983941714736662\n",
      "-23.002128004419347 -3.9609395867322426\n",
      "-18.401702403535705 -3.942537884328707\n",
      "-14.721361922828626 -3.927816522405878\n",
      "-11.777089538262526 -3.9160394328676156\n",
      "-9.421671630610096 -3.9066177612370057\n",
      "-7.537337304488291 -3.899080423932517\n",
      "-6.029869843590525 -3.893050554088927\n",
      "-4.823895874872535 -3.8882266582140543\n",
      "-3.8591166998978803 -3.8843675415141563\n",
      "-3.087293359918407 -3.881280248154238\n",
      "-2.4698346879346804 -3.878810413466303\n",
      "-1.9758677503478355 -3.876834545715955\n",
      "-1.580694200278118 -3.875253851515677\n",
      "-1.264555360222503 -3.8739892961554543\n",
      "-1.011644288177977 -3.8729776518672763\n",
      "-0.8093154305422683 -3.872168336436734\n",
      "-0.6474523444339173 -3.8715208840923\n",
      "-0.5179618755468987 -3.871002922216753\n",
      "-0.4143695004377639 -3.870588552716315\n",
      "-0.33149560034986436 -3.8702570571159653\n",
      "-0.265196480279978 -3.8699918606356856\n",
      "-0.21215718422427354 -3.8697797034514614\n",
      "-0.1697257473794691 -3.8696099777040818\n",
      "-0.13578059790323138 -3.8694741971061783\n",
      "-0.10862447832283006 -3.8693655726278555\n",
      "-0.08689958265835251 -3.8692786730451973\n",
      "-0.06951966612652338 -3.869209153379071\n",
      "-0.05561573290135868 -3.8691535376461696\n",
      "-0.04449258632110453 -3.8691090450598487\n",
      "-0.03559406905692253 -3.8690734509907916\n",
      "-0.02847525524519412 -3.8690449757355463\n",
      "-0.02278020419655391 -3.8690221955313495\n",
      "-0.018224163357151824 -3.8690039713679925\n",
      "-0.014579330685636549 -3.8689893920373066\n",
      "-0.011663464548412605 -3.8689777285727582\n",
      "-0.009330771638821567 -3.8689683978011193\n",
      "-0.007464617310852795 -3.8689609331838084\n",
      "-0.005971693848588977 -3.8689549614899597\n",
      "-0.004777355079165879 -3.8689501841348806\n",
      "-0.0038218840633614803 -3.868946362250817\n",
      "-0.0030575072504959167 -3.8689433047435666\n",
      "-0.0024460058004995844 -3.868940858737766\n",
      "-0.001956804640195209 -3.868938901933126\n",
      "-0.0015654437124128506 -3.8689373364894135\n",
      "-0.001252354969779823 -3.8689360841344436\n",
      "-0.0010018839758325626 -3.868935082250468\n",
      "-0.0008015071804647889 -3.868934280743287\n",
      "-0.0006412057446665287 -3.8689336395375427\n",
      "-0.0005129645957380191 -3.868933126572947\n",
      "-0.00041037167664192964 -3.8689327162012703\n",
      "-0.00032829734130235266 -3.868932387903929\n",
      "-0.000262637872880056 -3.8689321252660562\n",
      "-0.00021011029833317707 -3.8689319151557577\n",
      "-0.00016808823848624144 -3.8689317470675193\n",
      "-0.0001344705910968358 -3.868931612596928\n",
      "-0.00010757647271564252 -3.8689315050204556\n",
      "-8.606117820164627e-05 -3.8689314189592774\n",
      "-6.88489426527994e-05 -3.868931350110335\n",
      "-5.507915416114173e-05 -3.8689312950311807\n",
      "-4.4063323391796416e-05 -3.8689312509678575\n",
      "-3.525065855480847e-05 -3.868931215717199\n",
      "-2.820052676089091e-05 -3.8689311875166723\n",
      "-2.2560421534478792e-05 -3.868931164956251\n",
      "-1.8048337330434094e-05 -3.8689311469079133\n",
      "-1.4438669506233737e-05 -3.868931132469244\n",
      "-1.1550935691495567e-05 -3.868931120918308\n",
      "-9.240748610750416e-06 -3.8689311116775595\n",
      "-7.392599190580995e-06 -3.8689311042849606\n",
      "-5.914079273416917e-06 -3.868931098370881\n",
      "-3.868931098370881\n"
     ]
    }
   ],
   "source": [
    "gd.fit(X,y)"
   ]
  },
  {
   "cell_type": "code",
   "execution_count": null,
   "id": "4a002bb7",
   "metadata": {},
   "outputs": [],
   "source": []
  }
 ],
 "metadata": {
  "kernelspec": {
   "display_name": "Python 3 (ipykernel)",
   "language": "python",
   "name": "python3"
  },
  "language_info": {
   "codemirror_mode": {
    "name": "ipython",
    "version": 3
   },
   "file_extension": ".py",
   "mimetype": "text/x-python",
   "name": "python",
   "nbconvert_exporter": "python",
   "pygments_lexer": "ipython3",
   "version": "3.11.5"
  }
 },
 "nbformat": 4,
 "nbformat_minor": 5
}
